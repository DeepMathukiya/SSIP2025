{
 "cells": [
  {
   "cell_type": "code",
   "execution_count": 2,
   "metadata": {},
   "outputs": [
    {
     "name": "stderr",
     "output_type": "stream",
     "text": [
      "C:\\Users\\dsmat\\AppData\\Roaming\\Python\\Python311\\site-packages\\torch\\utils\\_pytree.py:185: FutureWarning: optree is installed but the version is too old to support PyTorch Dynamo in C++ pytree. C++ pytree support is disabled. Please consider upgrading optree using `python3 -m pip install --upgrade 'optree>=0.13.0'`.\n",
      "  warnings.warn(\n"
     ]
    },
    {
     "name": "stdout",
     "output_type": "stream",
     "text": [
      "Downloading https://github.com/ultralytics/assets/releases/download/v8.2.0/yolov8n.pt to 'yolov8n.pt'...\n"
     ]
    },
    {
     "name": "stderr",
     "output_type": "stream",
     "text": [
      "100%|██████████| 6.25M/6.25M [01:52<00:00, 58.0kB/s]\n"
     ]
    }
   ],
   "source": [
    "import cv2\n",
    "from ultralytics import YOLO\n",
    "\n",
    "# Load the model\n",
    "yolo = YOLO('yolov8n.pt')\n",
    "\n",
    "# Load the video capture"
   ]
  },
  {
   "cell_type": "code",
   "execution_count": 3,
   "metadata": {},
   "outputs": [
    {
     "name": "stdout",
     "output_type": "stream",
     "text": [
      "New https://pypi.org/project/ultralytics/8.3.97 available  Update with 'pip install -U ultralytics'\n",
      "Ultralytics YOLOv8.2.92  Python-3.11.5 torch-2.6.0+cu118 CUDA:0 (NVIDIA GeForce RTX 3050 6GB Laptop GPU, 6144MiB)\n",
      "\u001b[34m\u001b[1mengine\\trainer: \u001b[0mtask=detect, mode=train, model=yolov8n.pt, data=./yolo_dataset/dataset.yaml, epochs=50, time=None, patience=100, batch=16, imgsz=640, save=True, save_period=-1, cache=False, device=None, workers=8, project=None, name=train3, exist_ok=False, pretrained=True, optimizer=auto, verbose=True, seed=0, deterministic=True, single_cls=False, rect=False, cos_lr=False, close_mosaic=10, resume=False, amp=True, fraction=1.0, profile=False, freeze=None, multi_scale=False, overlap_mask=True, mask_ratio=4, dropout=0.0, val=True, split=val, save_json=False, save_hybrid=False, conf=None, iou=0.7, max_det=300, half=False, dnn=False, plots=True, source=None, vid_stride=1, stream_buffer=False, visualize=False, augment=False, agnostic_nms=False, classes=None, retina_masks=False, embed=None, show=False, save_frames=False, save_txt=False, save_conf=False, save_crop=False, show_labels=True, show_conf=True, show_boxes=True, line_width=None, format=torchscript, keras=False, optimize=False, int8=False, dynamic=False, simplify=False, opset=None, workspace=4, nms=False, lr0=0.01, lrf=0.01, momentum=0.937, weight_decay=0.0005, warmup_epochs=3.0, warmup_momentum=0.8, warmup_bias_lr=0.1, box=7.5, cls=0.5, dfl=1.5, pose=12.0, kobj=1.0, label_smoothing=0.0, nbs=64, hsv_h=0.015, hsv_s=0.7, hsv_v=0.4, degrees=0.0, translate=0.1, scale=0.5, shear=0.0, perspective=0.0, flipud=0.0, fliplr=0.5, bgr=0.0, mosaic=1.0, mixup=0.0, copy_paste=0.0, auto_augment=randaugment, erasing=0.4, crop_fraction=1.0, cfg=None, tracker=botsort.yaml, save_dir=runs\\detect\\train3\n",
      "Overriding model.yaml nc=80 with nc=1\n",
      "\n",
      "                   from  n    params  module                                       arguments                     \n",
      "  0                  -1  1       464  ultralytics.nn.modules.conv.Conv             [3, 16, 3, 2]                 \n",
      "  1                  -1  1      4672  ultralytics.nn.modules.conv.Conv             [16, 32, 3, 2]                \n",
      "  2                  -1  1      7360  ultralytics.nn.modules.block.C2f             [32, 32, 1, True]             \n",
      "  3                  -1  1     18560  ultralytics.nn.modules.conv.Conv             [32, 64, 3, 2]                \n",
      "  4                  -1  2     49664  ultralytics.nn.modules.block.C2f             [64, 64, 2, True]             \n",
      "  5                  -1  1     73984  ultralytics.nn.modules.conv.Conv             [64, 128, 3, 2]               \n",
      "  6                  -1  2    197632  ultralytics.nn.modules.block.C2f             [128, 128, 2, True]           \n",
      "  7                  -1  1    295424  ultralytics.nn.modules.conv.Conv             [128, 256, 3, 2]              \n",
      "  8                  -1  1    460288  ultralytics.nn.modules.block.C2f             [256, 256, 1, True]           \n",
      "  9                  -1  1    164608  ultralytics.nn.modules.block.SPPF            [256, 256, 5]                 \n",
      " 10                  -1  1         0  torch.nn.modules.upsampling.Upsample         [None, 2, 'nearest']          \n",
      " 11             [-1, 6]  1         0  ultralytics.nn.modules.conv.Concat           [1]                           \n",
      " 12                  -1  1    148224  ultralytics.nn.modules.block.C2f             [384, 128, 1]                 \n",
      " 13                  -1  1         0  torch.nn.modules.upsampling.Upsample         [None, 2, 'nearest']          \n",
      " 14             [-1, 4]  1         0  ultralytics.nn.modules.conv.Concat           [1]                           \n",
      " 15                  -1  1     37248  ultralytics.nn.modules.block.C2f             [192, 64, 1]                  \n",
      " 16                  -1  1     36992  ultralytics.nn.modules.conv.Conv             [64, 64, 3, 2]                \n",
      " 17            [-1, 12]  1         0  ultralytics.nn.modules.conv.Concat           [1]                           \n",
      " 18                  -1  1    123648  ultralytics.nn.modules.block.C2f             [192, 128, 1]                 \n",
      " 19                  -1  1    147712  ultralytics.nn.modules.conv.Conv             [128, 128, 3, 2]              \n",
      " 20             [-1, 9]  1         0  ultralytics.nn.modules.conv.Concat           [1]                           \n",
      " 21                  -1  1    493056  ultralytics.nn.modules.block.C2f             [384, 256, 1]                 \n",
      " 22        [15, 18, 21]  1    751507  ultralytics.nn.modules.head.Detect           [1, [64, 128, 256]]           \n",
      "Model summary: 225 layers, 3,011,043 parameters, 3,011,027 gradients, 8.2 GFLOPs\n",
      "\n",
      "Transferred 319/355 items from pretrained weights\n",
      "\u001b[34m\u001b[1mTensorBoard: \u001b[0mStart with 'tensorboard --logdir runs\\detect\\train3', view at http://localhost:6006/\n",
      "Freezing layer 'model.22.dfl.conv.weight'\n",
      "\u001b[34m\u001b[1mAMP: \u001b[0mrunning Automatic Mixed Precision (AMP) checks with YOLOv8n...\n"
     ]
    },
    {
     "name": "stderr",
     "output_type": "stream",
     "text": [
      "C:\\Users\\dsmat\\AppData\\Roaming\\Python\\Python311\\site-packages\\torch\\nn\\modules\\module.py:1329: UserWarning: expandable_segments not supported on this platform (Triggered internally at C:\\actions-runner\\_work\\pytorch\\pytorch\\pytorch\\c10/cuda/CUDAAllocatorConfig.h:28.)\n",
      "  return t.to(\n"
     ]
    },
    {
     "name": "stdout",
     "output_type": "stream",
     "text": [
      "\u001b[34m\u001b[1mAMP: \u001b[0mchecks passed \n"
     ]
    },
    {
     "name": "stderr",
     "output_type": "stream",
     "text": [
      "\u001b[34m\u001b[1mtrain: \u001b[0mScanning D:\\HACKTHON\\SSIP2025\\yolo_dataset\\labels\\train.cache... 1000 images, 0 backgrounds, 0 corrupt: 100%|██████████| 1000/1000 [00:00<?, ?it/s]\n",
      "\u001b[34m\u001b[1mval: \u001b[0mScanning D:\\HACKTHON\\SSIP2025\\yolo_dataset\\labels\\val.cache... 660 images, 0 backgrounds, 0 corrupt: 100%|██████████| 660/660 [00:00<?, ?it/s]\n"
     ]
    },
    {
     "name": "stdout",
     "output_type": "stream",
     "text": [
      "Plotting labels to runs\\detect\\train3\\labels.jpg... \n",
      "\u001b[34m\u001b[1moptimizer:\u001b[0m 'optimizer=auto' found, ignoring 'lr0=0.01' and 'momentum=0.937' and determining best 'optimizer', 'lr0' and 'momentum' automatically... \n",
      "\u001b[34m\u001b[1moptimizer:\u001b[0m AdamW(lr=0.002, momentum=0.9) with parameter groups 57 weight(decay=0.0), 64 weight(decay=0.0005), 63 bias(decay=0.0)\n",
      "\u001b[34m\u001b[1mTensorBoard: \u001b[0mmodel graph visualization added \n",
      "Image sizes 640 train, 640 val\n",
      "Using 8 dataloader workers\n",
      "Logging results to \u001b[1mruns\\detect\\train3\u001b[0m\n",
      "Starting training for 50 epochs...\n",
      "\n",
      "      Epoch    GPU_mem   box_loss   cls_loss   dfl_loss  Instances       Size\n"
     ]
    },
    {
     "name": "stderr",
     "output_type": "stream",
     "text": [
      "       1/50      2.17G      1.294       2.19      1.323         39        640: 100%|██████████| 63/63 [00:20<00:00,  3.00it/s]\n",
      "                 Class     Images  Instances      Box(P          R      mAP50  mAP50-95): 100%|██████████| 21/21 [00:07<00:00,  2.86it/s]"
     ]
    },
    {
     "name": "stdout",
     "output_type": "stream",
     "text": [
      "                   all        660       2057      0.765      0.181      0.301      0.172\n"
     ]
    },
    {
     "name": "stderr",
     "output_type": "stream",
     "text": [
      "\n"
     ]
    },
    {
     "name": "stdout",
     "output_type": "stream",
     "text": [
      "\n",
      "      Epoch    GPU_mem   box_loss   cls_loss   dfl_loss  Instances       Size\n"
     ]
    },
    {
     "name": "stderr",
     "output_type": "stream",
     "text": [
      "       2/50      2.24G      1.363      1.691       1.32         42        640: 100%|██████████| 63/63 [00:18<00:00,  3.47it/s]\n",
      "                 Class     Images  Instances      Box(P          R      mAP50  mAP50-95): 100%|██████████| 21/21 [00:07<00:00,  2.98it/s]"
     ]
    },
    {
     "name": "stdout",
     "output_type": "stream",
     "text": [
      "                   all        660       2057      0.508      0.339      0.325      0.167\n"
     ]
    },
    {
     "name": "stderr",
     "output_type": "stream",
     "text": [
      "\n"
     ]
    },
    {
     "name": "stdout",
     "output_type": "stream",
     "text": [
      "\n",
      "      Epoch    GPU_mem   box_loss   cls_loss   dfl_loss  Instances       Size\n"
     ]
    },
    {
     "name": "stderr",
     "output_type": "stream",
     "text": [
      "       3/50      2.21G      1.429      1.619      1.381         40        640: 100%|██████████| 63/63 [00:18<00:00,  3.49it/s]\n",
      "                 Class     Images  Instances      Box(P          R      mAP50  mAP50-95): 100%|██████████| 21/21 [00:06<00:00,  3.18it/s]"
     ]
    },
    {
     "name": "stdout",
     "output_type": "stream",
     "text": [
      "                   all        660       2057       0.32      0.351      0.224      0.116\n"
     ]
    },
    {
     "name": "stderr",
     "output_type": "stream",
     "text": [
      "\n"
     ]
    },
    {
     "name": "stdout",
     "output_type": "stream",
     "text": [
      "\n",
      "      Epoch    GPU_mem   box_loss   cls_loss   dfl_loss  Instances       Size\n"
     ]
    },
    {
     "name": "stderr",
     "output_type": "stream",
     "text": [
      "       4/50      2.17G      1.445       1.65      1.412         40        640: 100%|██████████| 63/63 [00:18<00:00,  3.45it/s]\n",
      "                 Class     Images  Instances      Box(P          R      mAP50  mAP50-95): 100%|██████████| 21/21 [00:06<00:00,  3.16it/s]"
     ]
    },
    {
     "name": "stdout",
     "output_type": "stream",
     "text": [
      "                   all        660       2057      0.323      0.324      0.247       0.13\n"
     ]
    },
    {
     "name": "stderr",
     "output_type": "stream",
     "text": [
      "\n"
     ]
    },
    {
     "name": "stdout",
     "output_type": "stream",
     "text": [
      "\n",
      "      Epoch    GPU_mem   box_loss   cls_loss   dfl_loss  Instances       Size\n"
     ]
    },
    {
     "name": "stderr",
     "output_type": "stream",
     "text": [
      "       5/50      2.19G      1.435      1.539      1.394         31        640: 100%|██████████| 63/63 [00:19<00:00,  3.28it/s]\n",
      "                 Class     Images  Instances      Box(P          R      mAP50  mAP50-95): 100%|██████████| 21/21 [00:06<00:00,  3.11it/s]"
     ]
    },
    {
     "name": "stdout",
     "output_type": "stream",
     "text": [
      "                   all        660       2057      0.628      0.449      0.478      0.257\n"
     ]
    },
    {
     "name": "stderr",
     "output_type": "stream",
     "text": [
      "\n"
     ]
    },
    {
     "name": "stdout",
     "output_type": "stream",
     "text": [
      "\n",
      "      Epoch    GPU_mem   box_loss   cls_loss   dfl_loss  Instances       Size\n"
     ]
    },
    {
     "name": "stderr",
     "output_type": "stream",
     "text": [
      "       6/50      2.16G      1.428      1.443      1.374         75        640: 100%|██████████| 63/63 [00:30<00:00,  2.09it/s]\n",
      "                 Class     Images  Instances      Box(P          R      mAP50  mAP50-95): 100%|██████████| 21/21 [00:22<00:00,  1.05s/it]"
     ]
    },
    {
     "name": "stdout",
     "output_type": "stream",
     "text": [
      "                   all        660       2057      0.675      0.459      0.505      0.277\n"
     ]
    },
    {
     "name": "stderr",
     "output_type": "stream",
     "text": [
      "\n"
     ]
    },
    {
     "name": "stdout",
     "output_type": "stream",
     "text": [
      "\n",
      "      Epoch    GPU_mem   box_loss   cls_loss   dfl_loss  Instances       Size\n"
     ]
    },
    {
     "name": "stderr",
     "output_type": "stream",
     "text": [
      "       7/50      2.19G      1.376      1.377      1.349         31        640: 100%|██████████| 63/63 [01:32<00:00,  1.47s/it]\n",
      "                 Class     Images  Instances      Box(P          R      mAP50  mAP50-95): 100%|██████████| 21/21 [00:23<00:00,  1.13s/it]"
     ]
    },
    {
     "name": "stdout",
     "output_type": "stream",
     "text": [
      "                   all        660       2057      0.672      0.408      0.451      0.256\n"
     ]
    },
    {
     "name": "stderr",
     "output_type": "stream",
     "text": [
      "\n"
     ]
    },
    {
     "name": "stdout",
     "output_type": "stream",
     "text": [
      "\n",
      "      Epoch    GPU_mem   box_loss   cls_loss   dfl_loss  Instances       Size\n"
     ]
    },
    {
     "name": "stderr",
     "output_type": "stream",
     "text": [
      "       8/50       2.2G      1.371      1.364      1.364         34        640: 100%|██████████| 63/63 [01:32<00:00,  1.47s/it]\n",
      "                 Class     Images  Instances      Box(P          R      mAP50  mAP50-95): 100%|██████████| 21/21 [00:22<00:00,  1.08s/it]"
     ]
    },
    {
     "name": "stdout",
     "output_type": "stream",
     "text": [
      "                   all        660       2057      0.681      0.495      0.547      0.302\n"
     ]
    },
    {
     "name": "stderr",
     "output_type": "stream",
     "text": [
      "\n"
     ]
    },
    {
     "name": "stdout",
     "output_type": "stream",
     "text": [
      "\n",
      "      Epoch    GPU_mem   box_loss   cls_loss   dfl_loss  Instances       Size\n"
     ]
    },
    {
     "name": "stderr",
     "output_type": "stream",
     "text": [
      "       9/50      2.17G      1.341      1.315      1.329         33        640: 100%|██████████| 63/63 [01:32<00:00,  1.47s/it]\n",
      "                 Class     Images  Instances      Box(P          R      mAP50  mAP50-95): 100%|██████████| 21/21 [00:22<00:00,  1.07s/it]"
     ]
    },
    {
     "name": "stdout",
     "output_type": "stream",
     "text": [
      "                   all        660       2057      0.681      0.516      0.547      0.313\n"
     ]
    },
    {
     "name": "stderr",
     "output_type": "stream",
     "text": [
      "\n"
     ]
    },
    {
     "name": "stdout",
     "output_type": "stream",
     "text": [
      "\n",
      "      Epoch    GPU_mem   box_loss   cls_loss   dfl_loss  Instances       Size\n"
     ]
    },
    {
     "name": "stderr",
     "output_type": "stream",
     "text": [
      "      10/50      2.27G      1.327      1.274       1.32         21        640: 100%|██████████| 63/63 [01:27<00:00,  1.38s/it]\n",
      "                 Class     Images  Instances      Box(P          R      mAP50  mAP50-95): 100%|██████████| 21/21 [00:20<00:00,  1.04it/s]\n"
     ]
    },
    {
     "name": "stdout",
     "output_type": "stream",
     "text": [
      "                   all        660       2057      0.698      0.511       0.57      0.329\n",
      "\n",
      "      Epoch    GPU_mem   box_loss   cls_loss   dfl_loss  Instances       Size\n"
     ]
    },
    {
     "name": "stderr",
     "output_type": "stream",
     "text": [
      "      11/50      2.22G      1.292      1.221      1.316         42        640: 100%|██████████| 63/63 [01:24<00:00,  1.34s/it]\n",
      "                 Class     Images  Instances      Box(P          R      mAP50  mAP50-95): 100%|██████████| 21/21 [00:18<00:00,  1.14it/s]"
     ]
    },
    {
     "name": "stdout",
     "output_type": "stream",
     "text": [
      "                   all        660       2057      0.737      0.528      0.582      0.342\n"
     ]
    },
    {
     "name": "stderr",
     "output_type": "stream",
     "text": [
      "\n"
     ]
    },
    {
     "name": "stdout",
     "output_type": "stream",
     "text": [
      "\n",
      "      Epoch    GPU_mem   box_loss   cls_loss   dfl_loss  Instances       Size\n"
     ]
    },
    {
     "name": "stderr",
     "output_type": "stream",
     "text": [
      "      12/50      2.17G      1.306      1.243      1.316         25        640: 100%|██████████| 63/63 [01:27<00:00,  1.40s/it]\n",
      "                 Class     Images  Instances      Box(P          R      mAP50  mAP50-95): 100%|██████████| 21/21 [00:18<00:00,  1.15it/s]"
     ]
    },
    {
     "name": "stdout",
     "output_type": "stream",
     "text": [
      "                   all        660       2057      0.694      0.502      0.551      0.326\n"
     ]
    },
    {
     "name": "stderr",
     "output_type": "stream",
     "text": [
      "\n"
     ]
    },
    {
     "name": "stdout",
     "output_type": "stream",
     "text": [
      "\n",
      "      Epoch    GPU_mem   box_loss   cls_loss   dfl_loss  Instances       Size\n"
     ]
    },
    {
     "name": "stderr",
     "output_type": "stream",
     "text": [
      "      13/50      2.29G      1.282      1.197      1.308         28        640: 100%|██████████| 63/63 [01:04<00:00,  1.02s/it]\n",
      "                 Class     Images  Instances      Box(P          R      mAP50  mAP50-95): 100%|██████████| 21/21 [00:06<00:00,  3.17it/s]"
     ]
    },
    {
     "name": "stdout",
     "output_type": "stream",
     "text": [
      "                   all        660       2057      0.726       0.54      0.596      0.358\n"
     ]
    },
    {
     "name": "stderr",
     "output_type": "stream",
     "text": [
      "\n"
     ]
    },
    {
     "name": "stdout",
     "output_type": "stream",
     "text": [
      "\n",
      "      Epoch    GPU_mem   box_loss   cls_loss   dfl_loss  Instances       Size\n"
     ]
    },
    {
     "name": "stderr",
     "output_type": "stream",
     "text": [
      "      14/50      2.23G      1.239      1.138      1.287         19        640: 100%|██████████| 63/63 [00:17<00:00,  3.69it/s]\n",
      "                 Class     Images  Instances      Box(P          R      mAP50  mAP50-95): 100%|██████████| 21/21 [00:06<00:00,  3.33it/s]"
     ]
    },
    {
     "name": "stdout",
     "output_type": "stream",
     "text": [
      "                   all        660       2057      0.725      0.551      0.605      0.373\n"
     ]
    },
    {
     "name": "stderr",
     "output_type": "stream",
     "text": [
      "\n"
     ]
    },
    {
     "name": "stdout",
     "output_type": "stream",
     "text": [
      "\n",
      "      Epoch    GPU_mem   box_loss   cls_loss   dfl_loss  Instances       Size\n"
     ]
    },
    {
     "name": "stderr",
     "output_type": "stream",
     "text": [
      "      15/50      2.19G      1.245      1.127      1.277         62        640: 100%|██████████| 63/63 [00:17<00:00,  3.69it/s]\n",
      "                 Class     Images  Instances      Box(P          R      mAP50  mAP50-95): 100%|██████████| 21/21 [00:06<00:00,  3.40it/s]"
     ]
    },
    {
     "name": "stdout",
     "output_type": "stream",
     "text": [
      "                   all        660       2057      0.754      0.555      0.615      0.379\n"
     ]
    },
    {
     "name": "stderr",
     "output_type": "stream",
     "text": [
      "\n"
     ]
    },
    {
     "name": "stdout",
     "output_type": "stream",
     "text": [
      "\n",
      "      Epoch    GPU_mem   box_loss   cls_loss   dfl_loss  Instances       Size\n"
     ]
    },
    {
     "name": "stderr",
     "output_type": "stream",
     "text": [
      "      16/50      2.19G      1.263      1.134      1.276         37        640: 100%|██████████| 63/63 [00:17<00:00,  3.68it/s]\n",
      "                 Class     Images  Instances      Box(P          R      mAP50  mAP50-95): 100%|██████████| 21/21 [00:06<00:00,  3.37it/s]"
     ]
    },
    {
     "name": "stdout",
     "output_type": "stream",
     "text": [
      "                   all        660       2057      0.737      0.557      0.605      0.371\n"
     ]
    },
    {
     "name": "stderr",
     "output_type": "stream",
     "text": [
      "\n"
     ]
    },
    {
     "name": "stdout",
     "output_type": "stream",
     "text": [
      "\n",
      "      Epoch    GPU_mem   box_loss   cls_loss   dfl_loss  Instances       Size\n"
     ]
    },
    {
     "name": "stderr",
     "output_type": "stream",
     "text": [
      "      17/50      2.19G       1.23       1.14      1.262         27        640: 100%|██████████| 63/63 [00:17<00:00,  3.68it/s]\n",
      "                 Class     Images  Instances      Box(P          R      mAP50  mAP50-95): 100%|██████████| 21/21 [00:06<00:00,  3.27it/s]"
     ]
    },
    {
     "name": "stdout",
     "output_type": "stream",
     "text": [
      "                   all        660       2057      0.734      0.564      0.625      0.381\n"
     ]
    },
    {
     "name": "stderr",
     "output_type": "stream",
     "text": [
      "\n"
     ]
    },
    {
     "name": "stdout",
     "output_type": "stream",
     "text": [
      "\n",
      "      Epoch    GPU_mem   box_loss   cls_loss   dfl_loss  Instances       Size\n"
     ]
    },
    {
     "name": "stderr",
     "output_type": "stream",
     "text": [
      "      18/50      2.21G       1.19      1.084       1.25         34        640: 100%|██████████| 63/63 [00:17<00:00,  3.67it/s]\n",
      "                 Class     Images  Instances      Box(P          R      mAP50  mAP50-95): 100%|██████████| 21/21 [00:06<00:00,  3.20it/s]"
     ]
    },
    {
     "name": "stdout",
     "output_type": "stream",
     "text": [
      "                   all        660       2057      0.736      0.546      0.607      0.379\n"
     ]
    },
    {
     "name": "stderr",
     "output_type": "stream",
     "text": [
      "\n"
     ]
    },
    {
     "name": "stdout",
     "output_type": "stream",
     "text": [
      "\n",
      "      Epoch    GPU_mem   box_loss   cls_loss   dfl_loss  Instances       Size\n"
     ]
    },
    {
     "name": "stderr",
     "output_type": "stream",
     "text": [
      "      19/50      2.19G      1.188      1.037      1.248         37        640: 100%|██████████| 63/63 [00:17<00:00,  3.68it/s]\n",
      "                 Class     Images  Instances      Box(P          R      mAP50  mAP50-95): 100%|██████████| 21/21 [00:04<00:00,  4.63it/s]"
     ]
    },
    {
     "name": "stdout",
     "output_type": "stream",
     "text": [
      "                   all        660       2057      0.701      0.544      0.592      0.361\n"
     ]
    },
    {
     "name": "stderr",
     "output_type": "stream",
     "text": [
      "\n"
     ]
    },
    {
     "name": "stdout",
     "output_type": "stream",
     "text": [
      "\n",
      "      Epoch    GPU_mem   box_loss   cls_loss   dfl_loss  Instances       Size\n"
     ]
    },
    {
     "name": "stderr",
     "output_type": "stream",
     "text": [
      "      20/50       2.2G      1.159       1.01      1.216         35        640: 100%|██████████| 63/63 [00:15<00:00,  4.00it/s]\n",
      "                 Class     Images  Instances      Box(P          R      mAP50  mAP50-95): 100%|██████████| 21/21 [00:04<00:00,  4.92it/s]"
     ]
    },
    {
     "name": "stdout",
     "output_type": "stream",
     "text": [
      "                   all        660       2057       0.79      0.559      0.641        0.4\n"
     ]
    },
    {
     "name": "stderr",
     "output_type": "stream",
     "text": [
      "\n"
     ]
    },
    {
     "name": "stdout",
     "output_type": "stream",
     "text": [
      "\n",
      "      Epoch    GPU_mem   box_loss   cls_loss   dfl_loss  Instances       Size\n"
     ]
    },
    {
     "name": "stderr",
     "output_type": "stream",
     "text": [
      "      21/50      2.19G      1.171      1.015      1.237         15        640: 100%|██████████| 63/63 [00:15<00:00,  3.98it/s]\n",
      "                 Class     Images  Instances      Box(P          R      mAP50  mAP50-95): 100%|██████████| 21/21 [00:04<00:00,  4.81it/s]"
     ]
    },
    {
     "name": "stdout",
     "output_type": "stream",
     "text": [
      "                   all        660       2057      0.806      0.604      0.677      0.419\n"
     ]
    },
    {
     "name": "stderr",
     "output_type": "stream",
     "text": [
      "\n"
     ]
    },
    {
     "name": "stdout",
     "output_type": "stream",
     "text": [
      "\n",
      "      Epoch    GPU_mem   box_loss   cls_loss   dfl_loss  Instances       Size\n"
     ]
    },
    {
     "name": "stderr",
     "output_type": "stream",
     "text": [
      "      22/50      2.27G      1.148      0.979      1.218         26        640: 100%|██████████| 63/63 [00:16<00:00,  3.71it/s]\n",
      "                 Class     Images  Instances      Box(P          R      mAP50  mAP50-95): 100%|██████████| 21/21 [00:04<00:00,  4.65it/s]"
     ]
    },
    {
     "name": "stdout",
     "output_type": "stream",
     "text": [
      "                   all        660       2057      0.787      0.587      0.659      0.412\n"
     ]
    },
    {
     "name": "stderr",
     "output_type": "stream",
     "text": [
      "\n"
     ]
    },
    {
     "name": "stdout",
     "output_type": "stream",
     "text": [
      "\n",
      "      Epoch    GPU_mem   box_loss   cls_loss   dfl_loss  Instances       Size\n"
     ]
    },
    {
     "name": "stderr",
     "output_type": "stream",
     "text": [
      "      23/50      2.17G      1.117       0.96      1.203         33        640: 100%|██████████| 63/63 [00:15<00:00,  3.97it/s]\n",
      "                 Class     Images  Instances      Box(P          R      mAP50  mAP50-95): 100%|██████████| 21/21 [00:05<00:00,  3.62it/s]"
     ]
    },
    {
     "name": "stdout",
     "output_type": "stream",
     "text": [
      "                   all        660       2057      0.793      0.597      0.669       0.42\n"
     ]
    },
    {
     "name": "stderr",
     "output_type": "stream",
     "text": [
      "\n"
     ]
    },
    {
     "name": "stdout",
     "output_type": "stream",
     "text": [
      "\n",
      "      Epoch    GPU_mem   box_loss   cls_loss   dfl_loss  Instances       Size\n"
     ]
    },
    {
     "name": "stderr",
     "output_type": "stream",
     "text": [
      "      24/50      2.17G      1.116     0.9477      1.197         20        640: 100%|██████████| 63/63 [00:16<00:00,  3.82it/s]\n",
      "                 Class     Images  Instances      Box(P          R      mAP50  mAP50-95): 100%|██████████| 21/21 [00:16<00:00,  1.26it/s]"
     ]
    },
    {
     "name": "stdout",
     "output_type": "stream",
     "text": [
      "                   all        660       2057      0.781      0.611      0.679      0.427\n"
     ]
    },
    {
     "name": "stderr",
     "output_type": "stream",
     "text": [
      "\n"
     ]
    },
    {
     "name": "stdout",
     "output_type": "stream",
     "text": [
      "\n",
      "      Epoch    GPU_mem   box_loss   cls_loss   dfl_loss  Instances       Size\n"
     ]
    },
    {
     "name": "stderr",
     "output_type": "stream",
     "text": [
      "      25/50      2.19G      1.146      0.952      1.211         29        640: 100%|██████████| 63/63 [00:31<00:00,  2.01it/s]\n",
      "                 Class     Images  Instances      Box(P          R      mAP50  mAP50-95): 100%|██████████| 21/21 [00:17<00:00,  1.17it/s]"
     ]
    },
    {
     "name": "stdout",
     "output_type": "stream",
     "text": [
      "                   all        660       2057      0.796      0.601      0.673      0.428\n"
     ]
    },
    {
     "name": "stderr",
     "output_type": "stream",
     "text": [
      "\n"
     ]
    },
    {
     "name": "stdout",
     "output_type": "stream",
     "text": [
      "\n",
      "      Epoch    GPU_mem   box_loss   cls_loss   dfl_loss  Instances       Size\n"
     ]
    },
    {
     "name": "stderr",
     "output_type": "stream",
     "text": [
      "      26/50      2.18G      1.075     0.9231      1.192         27        640: 100%|██████████| 63/63 [01:24<00:00,  1.33s/it]\n",
      "                 Class     Images  Instances      Box(P          R      mAP50  mAP50-95): 100%|██████████| 21/21 [00:18<00:00,  1.15it/s]"
     ]
    },
    {
     "name": "stdout",
     "output_type": "stream",
     "text": [
      "                   all        660       2057      0.797      0.586       0.65      0.422\n"
     ]
    },
    {
     "name": "stderr",
     "output_type": "stream",
     "text": [
      "\n"
     ]
    },
    {
     "name": "stdout",
     "output_type": "stream",
     "text": [
      "\n",
      "      Epoch    GPU_mem   box_loss   cls_loss   dfl_loss  Instances       Size\n"
     ]
    },
    {
     "name": "stderr",
     "output_type": "stream",
     "text": [
      "      27/50      2.19G      1.076     0.9183      1.176         16        640: 100%|██████████| 63/63 [01:26<00:00,  1.38s/it]\n",
      "                 Class     Images  Instances      Box(P          R      mAP50  mAP50-95): 100%|██████████| 21/21 [00:18<00:00,  1.14it/s]"
     ]
    },
    {
     "name": "stdout",
     "output_type": "stream",
     "text": [
      "                   all        660       2057      0.809      0.599      0.661      0.428\n"
     ]
    },
    {
     "name": "stderr",
     "output_type": "stream",
     "text": [
      "\n"
     ]
    },
    {
     "name": "stdout",
     "output_type": "stream",
     "text": [
      "\n",
      "      Epoch    GPU_mem   box_loss   cls_loss   dfl_loss  Instances       Size\n"
     ]
    },
    {
     "name": "stderr",
     "output_type": "stream",
     "text": [
      "      28/50       2.2G      1.132     0.9273      1.192         35        640: 100%|██████████| 63/63 [01:23<00:00,  1.33s/it]\n",
      "                 Class     Images  Instances      Box(P          R      mAP50  mAP50-95): 100%|██████████| 21/21 [00:18<00:00,  1.11it/s]"
     ]
    },
    {
     "name": "stdout",
     "output_type": "stream",
     "text": [
      "                   all        660       2057      0.819      0.621      0.705      0.455\n"
     ]
    },
    {
     "name": "stderr",
     "output_type": "stream",
     "text": [
      "\n"
     ]
    },
    {
     "name": "stdout",
     "output_type": "stream",
     "text": [
      "\n",
      "      Epoch    GPU_mem   box_loss   cls_loss   dfl_loss  Instances       Size\n"
     ]
    },
    {
     "name": "stderr",
     "output_type": "stream",
     "text": [
      "      29/50       2.2G      1.071     0.8811      1.174         30        640: 100%|██████████| 63/63 [01:23<00:00,  1.32s/it]\n",
      "                 Class     Images  Instances      Box(P          R      mAP50  mAP50-95): 100%|██████████| 21/21 [00:19<00:00,  1.06it/s]"
     ]
    },
    {
     "name": "stdout",
     "output_type": "stream",
     "text": [
      "                   all        660       2057      0.819      0.609      0.678      0.446\n"
     ]
    },
    {
     "name": "stderr",
     "output_type": "stream",
     "text": [
      "\n"
     ]
    },
    {
     "name": "stdout",
     "output_type": "stream",
     "text": [
      "\n",
      "      Epoch    GPU_mem   box_loss   cls_loss   dfl_loss  Instances       Size\n"
     ]
    },
    {
     "name": "stderr",
     "output_type": "stream",
     "text": [
      "      30/50      2.19G      1.049     0.8861      1.164         22        640: 100%|██████████| 63/63 [01:24<00:00,  1.34s/it]\n",
      "                 Class     Images  Instances      Box(P          R      mAP50  mAP50-95): 100%|██████████| 21/21 [00:17<00:00,  1.18it/s]"
     ]
    },
    {
     "name": "stdout",
     "output_type": "stream",
     "text": [
      "                   all        660       2057      0.847      0.618      0.698      0.453\n"
     ]
    },
    {
     "name": "stderr",
     "output_type": "stream",
     "text": [
      "\n"
     ]
    },
    {
     "name": "stdout",
     "output_type": "stream",
     "text": [
      "\n",
      "      Epoch    GPU_mem   box_loss   cls_loss   dfl_loss  Instances       Size\n"
     ]
    },
    {
     "name": "stderr",
     "output_type": "stream",
     "text": [
      "      31/50      2.19G      1.048     0.8435       1.16         43        640: 100%|██████████| 63/63 [01:24<00:00,  1.34s/it]\n",
      "                 Class     Images  Instances      Box(P          R      mAP50  mAP50-95): 100%|██████████| 21/21 [00:20<00:00,  1.03it/s]"
     ]
    },
    {
     "name": "stdout",
     "output_type": "stream",
     "text": [
      "                   all        660       2057      0.828      0.625        0.7      0.454\n"
     ]
    },
    {
     "name": "stderr",
     "output_type": "stream",
     "text": [
      "\n"
     ]
    },
    {
     "name": "stdout",
     "output_type": "stream",
     "text": [
      "\n",
      "      Epoch    GPU_mem   box_loss   cls_loss   dfl_loss  Instances       Size\n"
     ]
    },
    {
     "name": "stderr",
     "output_type": "stream",
     "text": [
      "      32/50      2.17G       1.05     0.8518      1.161         20        640: 100%|██████████| 63/63 [01:23<00:00,  1.32s/it]\n",
      "                 Class     Images  Instances      Box(P          R      mAP50  mAP50-95): 100%|██████████| 21/21 [00:19<00:00,  1.07it/s]"
     ]
    },
    {
     "name": "stdout",
     "output_type": "stream",
     "text": [
      "                   all        660       2057      0.826      0.629      0.707      0.464\n"
     ]
    },
    {
     "name": "stderr",
     "output_type": "stream",
     "text": [
      "\n"
     ]
    },
    {
     "name": "stdout",
     "output_type": "stream",
     "text": [
      "\n",
      "      Epoch    GPU_mem   box_loss   cls_loss   dfl_loss  Instances       Size\n"
     ]
    },
    {
     "name": "stderr",
     "output_type": "stream",
     "text": [
      "      33/50      2.27G      1.056     0.8408      1.163         25        640: 100%|██████████| 63/63 [01:23<00:00,  1.32s/it]\n",
      "                 Class     Images  Instances      Box(P          R      mAP50  mAP50-95): 100%|██████████| 21/21 [00:18<00:00,  1.13it/s]"
     ]
    },
    {
     "name": "stdout",
     "output_type": "stream",
     "text": [
      "                   all        660       2057      0.837      0.621      0.706      0.465\n"
     ]
    },
    {
     "name": "stderr",
     "output_type": "stream",
     "text": [
      "\n"
     ]
    },
    {
     "name": "stdout",
     "output_type": "stream",
     "text": [
      "\n",
      "      Epoch    GPU_mem   box_loss   cls_loss   dfl_loss  Instances       Size\n"
     ]
    },
    {
     "name": "stderr",
     "output_type": "stream",
     "text": [
      "      34/50      2.16G      1.021       0.81      1.133         38        640: 100%|██████████| 63/63 [01:25<00:00,  1.35s/it]\n",
      "                 Class     Images  Instances      Box(P          R      mAP50  mAP50-95): 100%|██████████| 21/21 [00:18<00:00,  1.11it/s]"
     ]
    },
    {
     "name": "stdout",
     "output_type": "stream",
     "text": [
      "                   all        660       2057      0.861      0.637      0.719      0.474\n"
     ]
    },
    {
     "name": "stderr",
     "output_type": "stream",
     "text": [
      "\n"
     ]
    },
    {
     "name": "stdout",
     "output_type": "stream",
     "text": [
      "\n",
      "      Epoch    GPU_mem   box_loss   cls_loss   dfl_loss  Instances       Size\n"
     ]
    },
    {
     "name": "stderr",
     "output_type": "stream",
     "text": [
      "      35/50       2.2G      1.025     0.7997      1.114         38        640: 100%|██████████| 63/63 [01:24<00:00,  1.34s/it]\n",
      "                 Class     Images  Instances      Box(P          R      mAP50  mAP50-95): 100%|██████████| 21/21 [00:19<00:00,  1.09it/s]"
     ]
    },
    {
     "name": "stdout",
     "output_type": "stream",
     "text": [
      "                   all        660       2057       0.88      0.634      0.737      0.488\n"
     ]
    },
    {
     "name": "stderr",
     "output_type": "stream",
     "text": [
      "\n"
     ]
    },
    {
     "name": "stdout",
     "output_type": "stream",
     "text": [
      "\n",
      "      Epoch    GPU_mem   box_loss   cls_loss   dfl_loss  Instances       Size\n"
     ]
    },
    {
     "name": "stderr",
     "output_type": "stream",
     "text": [
      "      36/50       2.2G      1.003     0.7824      1.127         24        640: 100%|██████████| 63/63 [01:24<00:00,  1.35s/it]\n",
      "                 Class     Images  Instances      Box(P          R      mAP50  mAP50-95): 100%|██████████| 21/21 [00:18<00:00,  1.11it/s]"
     ]
    },
    {
     "name": "stdout",
     "output_type": "stream",
     "text": [
      "                   all        660       2057      0.852       0.64      0.722      0.482\n"
     ]
    },
    {
     "name": "stderr",
     "output_type": "stream",
     "text": [
      "\n"
     ]
    },
    {
     "name": "stdout",
     "output_type": "stream",
     "text": [
      "\n",
      "      Epoch    GPU_mem   box_loss   cls_loss   dfl_loss  Instances       Size\n"
     ]
    },
    {
     "name": "stderr",
     "output_type": "stream",
     "text": [
      "      37/50      2.19G     0.9783     0.7582      1.105         38        640: 100%|██████████| 63/63 [01:23<00:00,  1.32s/it]\n",
      "                 Class     Images  Instances      Box(P          R      mAP50  mAP50-95): 100%|██████████| 21/21 [00:18<00:00,  1.11it/s]"
     ]
    },
    {
     "name": "stdout",
     "output_type": "stream",
     "text": [
      "                   all        660       2057      0.861      0.621      0.704      0.472\n"
     ]
    },
    {
     "name": "stderr",
     "output_type": "stream",
     "text": [
      "\n"
     ]
    },
    {
     "name": "stdout",
     "output_type": "stream",
     "text": [
      "\n",
      "      Epoch    GPU_mem   box_loss   cls_loss   dfl_loss  Instances       Size\n"
     ]
    },
    {
     "name": "stderr",
     "output_type": "stream",
     "text": [
      "      38/50      2.18G     0.9809     0.7522       1.11         29        640: 100%|██████████| 63/63 [01:25<00:00,  1.36s/it]\n",
      "                 Class     Images  Instances      Box(P          R      mAP50  mAP50-95): 100%|██████████| 21/21 [00:18<00:00,  1.14it/s]"
     ]
    },
    {
     "name": "stdout",
     "output_type": "stream",
     "text": [
      "                   all        660       2057      0.875      0.642      0.723      0.482\n"
     ]
    },
    {
     "name": "stderr",
     "output_type": "stream",
     "text": [
      "\n"
     ]
    },
    {
     "name": "stdout",
     "output_type": "stream",
     "text": [
      "\n",
      "      Epoch    GPU_mem   box_loss   cls_loss   dfl_loss  Instances       Size\n"
     ]
    },
    {
     "name": "stderr",
     "output_type": "stream",
     "text": [
      "      39/50      2.19G     0.9818     0.7459       1.11         26        640: 100%|██████████| 63/63 [01:26<00:00,  1.38s/it]\n",
      "                 Class     Images  Instances      Box(P          R      mAP50  mAP50-95): 100%|██████████| 21/21 [00:18<00:00,  1.11it/s]"
     ]
    },
    {
     "name": "stdout",
     "output_type": "stream",
     "text": [
      "                   all        660       2057      0.855      0.656      0.733      0.485\n"
     ]
    },
    {
     "name": "stderr",
     "output_type": "stream",
     "text": [
      "\n"
     ]
    },
    {
     "name": "stdout",
     "output_type": "stream",
     "text": [
      "\n",
      "      Epoch    GPU_mem   box_loss   cls_loss   dfl_loss  Instances       Size\n"
     ]
    },
    {
     "name": "stderr",
     "output_type": "stream",
     "text": [
      "      40/50      2.17G     0.9792     0.7342      1.106         25        640: 100%|██████████| 63/63 [01:17<00:00,  1.22s/it]\n",
      "                 Class     Images  Instances      Box(P          R      mAP50  mAP50-95): 100%|██████████| 21/21 [00:04<00:00,  4.41it/s]"
     ]
    },
    {
     "name": "stdout",
     "output_type": "stream",
     "text": [
      "                   all        660       2057      0.873      0.659      0.741        0.5\n"
     ]
    },
    {
     "name": "stderr",
     "output_type": "stream",
     "text": [
      "\n"
     ]
    },
    {
     "name": "stdout",
     "output_type": "stream",
     "text": [
      "Closing dataloader mosaic\n",
      "\n",
      "      Epoch    GPU_mem   box_loss   cls_loss   dfl_loss  Instances       Size\n"
     ]
    },
    {
     "name": "stderr",
     "output_type": "stream",
     "text": [
      "      41/50      2.17G      0.958     0.7014      1.096         14        640: 100%|██████████| 63/63 [00:16<00:00,  3.75it/s]\n",
      "                 Class     Images  Instances      Box(P          R      mAP50  mAP50-95): 100%|██████████| 21/21 [00:04<00:00,  4.23it/s]"
     ]
    },
    {
     "name": "stdout",
     "output_type": "stream",
     "text": [
      "                   all        660       2057      0.866      0.657      0.734      0.489\n"
     ]
    },
    {
     "name": "stderr",
     "output_type": "stream",
     "text": [
      "\n"
     ]
    },
    {
     "name": "stdout",
     "output_type": "stream",
     "text": [
      "\n",
      "      Epoch    GPU_mem   box_loss   cls_loss   dfl_loss  Instances       Size\n"
     ]
    },
    {
     "name": "stderr",
     "output_type": "stream",
     "text": [
      "      42/50      2.24G      0.954      0.669      1.087         11        640: 100%|██████████| 63/63 [00:16<00:00,  3.89it/s]\n",
      "                 Class     Images  Instances      Box(P          R      mAP50  mAP50-95): 100%|██████████| 21/21 [00:04<00:00,  4.55it/s]"
     ]
    },
    {
     "name": "stdout",
     "output_type": "stream",
     "text": [
      "                   all        660       2057      0.867      0.659       0.74      0.498\n"
     ]
    },
    {
     "name": "stderr",
     "output_type": "stream",
     "text": [
      "\n"
     ]
    },
    {
     "name": "stdout",
     "output_type": "stream",
     "text": [
      "\n",
      "      Epoch    GPU_mem   box_loss   cls_loss   dfl_loss  Instances       Size\n"
     ]
    },
    {
     "name": "stderr",
     "output_type": "stream",
     "text": [
      "      43/50       2.2G     0.9307     0.6482      1.074         21        640: 100%|██████████| 63/63 [00:16<00:00,  3.91it/s]\n",
      "                 Class     Images  Instances      Box(P          R      mAP50  mAP50-95): 100%|██████████| 21/21 [00:04<00:00,  4.49it/s]"
     ]
    },
    {
     "name": "stdout",
     "output_type": "stream",
     "text": [
      "                   all        660       2057      0.851      0.677      0.741      0.501\n"
     ]
    },
    {
     "name": "stderr",
     "output_type": "stream",
     "text": [
      "\n"
     ]
    },
    {
     "name": "stdout",
     "output_type": "stream",
     "text": [
      "\n",
      "      Epoch    GPU_mem   box_loss   cls_loss   dfl_loss  Instances       Size\n"
     ]
    },
    {
     "name": "stderr",
     "output_type": "stream",
     "text": [
      "      44/50      2.17G     0.9019     0.6199      1.066         40        640: 100%|██████████| 63/63 [00:16<00:00,  3.92it/s]\n",
      "                 Class     Images  Instances      Box(P          R      mAP50  mAP50-95): 100%|██████████| 21/21 [00:04<00:00,  4.49it/s]"
     ]
    },
    {
     "name": "stdout",
     "output_type": "stream",
     "text": [
      "                   all        660       2057      0.885      0.655      0.736      0.497\n"
     ]
    },
    {
     "name": "stderr",
     "output_type": "stream",
     "text": [
      "\n"
     ]
    },
    {
     "name": "stdout",
     "output_type": "stream",
     "text": [
      "\n",
      "      Epoch    GPU_mem   box_loss   cls_loss   dfl_loss  Instances       Size\n"
     ]
    },
    {
     "name": "stderr",
     "output_type": "stream",
     "text": [
      "      45/50      2.19G     0.9252     0.6168      1.072         23        640: 100%|██████████| 63/63 [00:16<00:00,  3.90it/s]\n",
      "                 Class     Images  Instances      Box(P          R      mAP50  mAP50-95): 100%|██████████| 21/21 [00:04<00:00,  4.48it/s]"
     ]
    },
    {
     "name": "stdout",
     "output_type": "stream",
     "text": [
      "                   all        660       2057      0.861      0.664      0.738      0.507\n"
     ]
    },
    {
     "name": "stderr",
     "output_type": "stream",
     "text": [
      "\n"
     ]
    },
    {
     "name": "stdout",
     "output_type": "stream",
     "text": [
      "\n",
      "      Epoch    GPU_mem   box_loss   cls_loss   dfl_loss  Instances       Size\n"
     ]
    },
    {
     "name": "stderr",
     "output_type": "stream",
     "text": [
      "      46/50      2.16G     0.8951     0.6051      1.065         15        640: 100%|██████████| 63/63 [00:16<00:00,  3.90it/s]\n",
      "                 Class     Images  Instances      Box(P          R      mAP50  mAP50-95): 100%|██████████| 21/21 [00:04<00:00,  4.51it/s]"
     ]
    },
    {
     "name": "stdout",
     "output_type": "stream",
     "text": [
      "                   all        660       2057      0.868      0.679      0.747      0.511\n"
     ]
    },
    {
     "name": "stderr",
     "output_type": "stream",
     "text": [
      "\n"
     ]
    },
    {
     "name": "stdout",
     "output_type": "stream",
     "text": [
      "\n",
      "      Epoch    GPU_mem   box_loss   cls_loss   dfl_loss  Instances       Size\n"
     ]
    },
    {
     "name": "stderr",
     "output_type": "stream",
     "text": [
      "      47/50       2.2G     0.8739     0.5673      1.045         18        640: 100%|██████████| 63/63 [00:16<00:00,  3.90it/s]\n",
      "                 Class     Images  Instances      Box(P          R      mAP50  mAP50-95): 100%|██████████| 21/21 [00:04<00:00,  4.55it/s]"
     ]
    },
    {
     "name": "stdout",
     "output_type": "stream",
     "text": [
      "                   all        660       2057      0.874      0.672      0.745      0.512\n"
     ]
    },
    {
     "name": "stderr",
     "output_type": "stream",
     "text": [
      "\n"
     ]
    },
    {
     "name": "stdout",
     "output_type": "stream",
     "text": [
      "\n",
      "      Epoch    GPU_mem   box_loss   cls_loss   dfl_loss  Instances       Size\n"
     ]
    },
    {
     "name": "stderr",
     "output_type": "stream",
     "text": [
      "      48/50      2.15G     0.8674     0.5657      1.048         11        640: 100%|██████████| 63/63 [00:16<00:00,  3.92it/s]\n",
      "                 Class     Images  Instances      Box(P          R      mAP50  mAP50-95): 100%|██████████| 21/21 [00:04<00:00,  4.45it/s]"
     ]
    },
    {
     "name": "stdout",
     "output_type": "stream",
     "text": [
      "                   all        660       2057      0.867      0.678       0.75      0.521\n"
     ]
    },
    {
     "name": "stderr",
     "output_type": "stream",
     "text": [
      "\n"
     ]
    },
    {
     "name": "stdout",
     "output_type": "stream",
     "text": [
      "\n",
      "      Epoch    GPU_mem   box_loss   cls_loss   dfl_loss  Instances       Size\n"
     ]
    },
    {
     "name": "stderr",
     "output_type": "stream",
     "text": [
      "      49/50      2.16G     0.8475     0.5609      1.036         16        640: 100%|██████████| 63/63 [00:16<00:00,  3.91it/s]\n",
      "                 Class     Images  Instances      Box(P          R      mAP50  mAP50-95): 100%|██████████| 21/21 [00:04<00:00,  4.58it/s]"
     ]
    },
    {
     "name": "stdout",
     "output_type": "stream",
     "text": [
      "                   all        660       2057      0.881      0.678      0.751      0.518\n"
     ]
    },
    {
     "name": "stderr",
     "output_type": "stream",
     "text": [
      "\n"
     ]
    },
    {
     "name": "stdout",
     "output_type": "stream",
     "text": [
      "\n",
      "      Epoch    GPU_mem   box_loss   cls_loss   dfl_loss  Instances       Size\n"
     ]
    },
    {
     "name": "stderr",
     "output_type": "stream",
     "text": [
      "      50/50      2.18G     0.8501     0.5479       1.03         18        640: 100%|██████████| 63/63 [00:16<00:00,  3.93it/s]\n",
      "                 Class     Images  Instances      Box(P          R      mAP50  mAP50-95): 100%|██████████| 21/21 [00:04<00:00,  4.58it/s]"
     ]
    },
    {
     "name": "stdout",
     "output_type": "stream",
     "text": [
      "                   all        660       2057      0.882      0.675       0.75      0.519\n"
     ]
    },
    {
     "name": "stderr",
     "output_type": "stream",
     "text": [
      "\n"
     ]
    },
    {
     "name": "stdout",
     "output_type": "stream",
     "text": [
      "\n",
      "50 epochs completed in 0.846 hours.\n",
      "Optimizer stripped from runs\\detect\\train3\\weights\\last.pt, 6.2MB\n",
      "Optimizer stripped from runs\\detect\\train3\\weights\\best.pt, 6.2MB\n",
      "\n",
      "Validating runs\\detect\\train3\\weights\\best.pt...\n",
      "Ultralytics YOLOv8.2.92  Python-3.11.5 torch-2.6.0+cu118 CUDA:0 (NVIDIA GeForce RTX 3050 6GB Laptop GPU, 6144MiB)\n",
      "Model summary (fused): 168 layers, 3,005,843 parameters, 0 gradients, 8.1 GFLOPs\n"
     ]
    },
    {
     "name": "stderr",
     "output_type": "stream",
     "text": [
      "                 Class     Images  Instances      Box(P          R      mAP50  mAP50-95): 100%|██████████| 21/21 [00:05<00:00,  4.19it/s]\n"
     ]
    },
    {
     "name": "stdout",
     "output_type": "stream",
     "text": [
      "                   all        660       2057      0.885      0.668       0.75      0.521\n",
      "Speed: 0.2ms preprocess, 3.5ms inference, 0.0ms loss, 0.8ms postprocess per image\n",
      "Results saved to \u001b[1mruns\\detect\\train3\u001b[0m\n"
     ]
    },
    {
     "data": {
      "text/plain": [
       "ultralytics.utils.metrics.DetMetrics object with attributes:\n",
       "\n",
       "ap_class_index: array([0])\n",
       "box: ultralytics.utils.metrics.Metric object\n",
       "confusion_matrix: <ultralytics.utils.metrics.ConfusionMatrix object at 0x000002754F6A5010>\n",
       "curves: ['Precision-Recall(B)', 'F1-Confidence(B)', 'Precision-Confidence(B)', 'Recall-Confidence(B)']\n",
       "curves_results: [[array([          0,    0.001001,    0.002002,    0.003003,    0.004004,    0.005005,    0.006006,    0.007007,    0.008008,    0.009009,     0.01001,    0.011011,    0.012012,    0.013013,    0.014014,    0.015015,    0.016016,    0.017017,    0.018018,    0.019019,     0.02002,    0.021021,    0.022022,    0.023023,\n",
       "          0.024024,    0.025025,    0.026026,    0.027027,    0.028028,    0.029029,     0.03003,    0.031031,    0.032032,    0.033033,    0.034034,    0.035035,    0.036036,    0.037037,    0.038038,    0.039039,     0.04004,    0.041041,    0.042042,    0.043043,    0.044044,    0.045045,    0.046046,    0.047047,\n",
       "          0.048048,    0.049049,     0.05005,    0.051051,    0.052052,    0.053053,    0.054054,    0.055055,    0.056056,    0.057057,    0.058058,    0.059059,     0.06006,    0.061061,    0.062062,    0.063063,    0.064064,    0.065065,    0.066066,    0.067067,    0.068068,    0.069069,     0.07007,    0.071071,\n",
       "          0.072072,    0.073073,    0.074074,    0.075075,    0.076076,    0.077077,    0.078078,    0.079079,     0.08008,    0.081081,    0.082082,    0.083083,    0.084084,    0.085085,    0.086086,    0.087087,    0.088088,    0.089089,     0.09009,    0.091091,    0.092092,    0.093093,    0.094094,    0.095095,\n",
       "          0.096096,    0.097097,    0.098098,    0.099099,      0.1001,      0.1011,      0.1021,      0.1031,      0.1041,     0.10511,     0.10611,     0.10711,     0.10811,     0.10911,     0.11011,     0.11111,     0.11211,     0.11311,     0.11411,     0.11512,     0.11612,     0.11712,     0.11812,     0.11912,\n",
       "           0.12012,     0.12112,     0.12212,     0.12312,     0.12412,     0.12513,     0.12613,     0.12713,     0.12813,     0.12913,     0.13013,     0.13113,     0.13213,     0.13313,     0.13413,     0.13514,     0.13614,     0.13714,     0.13814,     0.13914,     0.14014,     0.14114,     0.14214,     0.14314,\n",
       "           0.14414,     0.14515,     0.14615,     0.14715,     0.14815,     0.14915,     0.15015,     0.15115,     0.15215,     0.15315,     0.15415,     0.15516,     0.15616,     0.15716,     0.15816,     0.15916,     0.16016,     0.16116,     0.16216,     0.16316,     0.16416,     0.16517,     0.16617,     0.16717,\n",
       "           0.16817,     0.16917,     0.17017,     0.17117,     0.17217,     0.17317,     0.17417,     0.17518,     0.17618,     0.17718,     0.17818,     0.17918,     0.18018,     0.18118,     0.18218,     0.18318,     0.18418,     0.18519,     0.18619,     0.18719,     0.18819,     0.18919,     0.19019,     0.19119,\n",
       "           0.19219,     0.19319,     0.19419,      0.1952,      0.1962,      0.1972,      0.1982,      0.1992,      0.2002,      0.2012,      0.2022,      0.2032,      0.2042,     0.20521,     0.20621,     0.20721,     0.20821,     0.20921,     0.21021,     0.21121,     0.21221,     0.21321,     0.21421,     0.21522,\n",
       "           0.21622,     0.21722,     0.21822,     0.21922,     0.22022,     0.22122,     0.22222,     0.22322,     0.22422,     0.22523,     0.22623,     0.22723,     0.22823,     0.22923,     0.23023,     0.23123,     0.23223,     0.23323,     0.23423,     0.23524,     0.23624,     0.23724,     0.23824,     0.23924,\n",
       "           0.24024,     0.24124,     0.24224,     0.24324,     0.24424,     0.24525,     0.24625,     0.24725,     0.24825,     0.24925,     0.25025,     0.25125,     0.25225,     0.25325,     0.25425,     0.25526,     0.25626,     0.25726,     0.25826,     0.25926,     0.26026,     0.26126,     0.26226,     0.26326,\n",
       "           0.26426,     0.26527,     0.26627,     0.26727,     0.26827,     0.26927,     0.27027,     0.27127,     0.27227,     0.27327,     0.27427,     0.27528,     0.27628,     0.27728,     0.27828,     0.27928,     0.28028,     0.28128,     0.28228,     0.28328,     0.28428,     0.28529,     0.28629,     0.28729,\n",
       "           0.28829,     0.28929,     0.29029,     0.29129,     0.29229,     0.29329,     0.29429,      0.2953,      0.2963,      0.2973,      0.2983,      0.2993,      0.3003,      0.3013,      0.3023,      0.3033,      0.3043,     0.30531,     0.30631,     0.30731,     0.30831,     0.30931,     0.31031,     0.31131,\n",
       "           0.31231,     0.31331,     0.31431,     0.31532,     0.31632,     0.31732,     0.31832,     0.31932,     0.32032,     0.32132,     0.32232,     0.32332,     0.32432,     0.32533,     0.32633,     0.32733,     0.32833,     0.32933,     0.33033,     0.33133,     0.33233,     0.33333,     0.33433,     0.33534,\n",
       "           0.33634,     0.33734,     0.33834,     0.33934,     0.34034,     0.34134,     0.34234,     0.34334,     0.34434,     0.34535,     0.34635,     0.34735,     0.34835,     0.34935,     0.35035,     0.35135,     0.35235,     0.35335,     0.35435,     0.35536,     0.35636,     0.35736,     0.35836,     0.35936,\n",
       "           0.36036,     0.36136,     0.36236,     0.36336,     0.36436,     0.36537,     0.36637,     0.36737,     0.36837,     0.36937,     0.37037,     0.37137,     0.37237,     0.37337,     0.37437,     0.37538,     0.37638,     0.37738,     0.37838,     0.37938,     0.38038,     0.38138,     0.38238,     0.38338,\n",
       "           0.38438,     0.38539,     0.38639,     0.38739,     0.38839,     0.38939,     0.39039,     0.39139,     0.39239,     0.39339,     0.39439,      0.3954,      0.3964,      0.3974,      0.3984,      0.3994,      0.4004,      0.4014,      0.4024,      0.4034,      0.4044,     0.40541,     0.40641,     0.40741,\n",
       "           0.40841,     0.40941,     0.41041,     0.41141,     0.41241,     0.41341,     0.41441,     0.41542,     0.41642,     0.41742,     0.41842,     0.41942,     0.42042,     0.42142,     0.42242,     0.42342,     0.42442,     0.42543,     0.42643,     0.42743,     0.42843,     0.42943,     0.43043,     0.43143,\n",
       "           0.43243,     0.43343,     0.43443,     0.43544,     0.43644,     0.43744,     0.43844,     0.43944,     0.44044,     0.44144,     0.44244,     0.44344,     0.44444,     0.44545,     0.44645,     0.44745,     0.44845,     0.44945,     0.45045,     0.45145,     0.45245,     0.45345,     0.45445,     0.45546,\n",
       "           0.45646,     0.45746,     0.45846,     0.45946,     0.46046,     0.46146,     0.46246,     0.46346,     0.46446,     0.46547,     0.46647,     0.46747,     0.46847,     0.46947,     0.47047,     0.47147,     0.47247,     0.47347,     0.47447,     0.47548,     0.47648,     0.47748,     0.47848,     0.47948,\n",
       "           0.48048,     0.48148,     0.48248,     0.48348,     0.48448,     0.48549,     0.48649,     0.48749,     0.48849,     0.48949,     0.49049,     0.49149,     0.49249,     0.49349,     0.49449,      0.4955,      0.4965,      0.4975,      0.4985,      0.4995,      0.5005,      0.5015,      0.5025,      0.5035,\n",
       "            0.5045,     0.50551,     0.50651,     0.50751,     0.50851,     0.50951,     0.51051,     0.51151,     0.51251,     0.51351,     0.51451,     0.51552,     0.51652,     0.51752,     0.51852,     0.51952,     0.52052,     0.52152,     0.52252,     0.52352,     0.52452,     0.52553,     0.52653,     0.52753,\n",
       "           0.52853,     0.52953,     0.53053,     0.53153,     0.53253,     0.53353,     0.53453,     0.53554,     0.53654,     0.53754,     0.53854,     0.53954,     0.54054,     0.54154,     0.54254,     0.54354,     0.54454,     0.54555,     0.54655,     0.54755,     0.54855,     0.54955,     0.55055,     0.55155,\n",
       "           0.55255,     0.55355,     0.55455,     0.55556,     0.55656,     0.55756,     0.55856,     0.55956,     0.56056,     0.56156,     0.56256,     0.56356,     0.56456,     0.56557,     0.56657,     0.56757,     0.56857,     0.56957,     0.57057,     0.57157,     0.57257,     0.57357,     0.57457,     0.57558,\n",
       "           0.57658,     0.57758,     0.57858,     0.57958,     0.58058,     0.58158,     0.58258,     0.58358,     0.58458,     0.58559,     0.58659,     0.58759,     0.58859,     0.58959,     0.59059,     0.59159,     0.59259,     0.59359,     0.59459,      0.5956,      0.5966,      0.5976,      0.5986,      0.5996,\n",
       "            0.6006,      0.6016,      0.6026,      0.6036,      0.6046,     0.60561,     0.60661,     0.60761,     0.60861,     0.60961,     0.61061,     0.61161,     0.61261,     0.61361,     0.61461,     0.61562,     0.61662,     0.61762,     0.61862,     0.61962,     0.62062,     0.62162,     0.62262,     0.62362,\n",
       "           0.62462,     0.62563,     0.62663,     0.62763,     0.62863,     0.62963,     0.63063,     0.63163,     0.63263,     0.63363,     0.63463,     0.63564,     0.63664,     0.63764,     0.63864,     0.63964,     0.64064,     0.64164,     0.64264,     0.64364,     0.64464,     0.64565,     0.64665,     0.64765,\n",
       "           0.64865,     0.64965,     0.65065,     0.65165,     0.65265,     0.65365,     0.65465,     0.65566,     0.65666,     0.65766,     0.65866,     0.65966,     0.66066,     0.66166,     0.66266,     0.66366,     0.66466,     0.66567,     0.66667,     0.66767,     0.66867,     0.66967,     0.67067,     0.67167,\n",
       "           0.67267,     0.67367,     0.67467,     0.67568,     0.67668,     0.67768,     0.67868,     0.67968,     0.68068,     0.68168,     0.68268,     0.68368,     0.68468,     0.68569,     0.68669,     0.68769,     0.68869,     0.68969,     0.69069,     0.69169,     0.69269,     0.69369,     0.69469,      0.6957,\n",
       "            0.6967,      0.6977,      0.6987,      0.6997,      0.7007,      0.7017,      0.7027,      0.7037,      0.7047,     0.70571,     0.70671,     0.70771,     0.70871,     0.70971,     0.71071,     0.71171,     0.71271,     0.71371,     0.71471,     0.71572,     0.71672,     0.71772,     0.71872,     0.71972,\n",
       "           0.72072,     0.72172,     0.72272,     0.72372,     0.72472,     0.72573,     0.72673,     0.72773,     0.72873,     0.72973,     0.73073,     0.73173,     0.73273,     0.73373,     0.73473,     0.73574,     0.73674,     0.73774,     0.73874,     0.73974,     0.74074,     0.74174,     0.74274,     0.74374,\n",
       "           0.74474,     0.74575,     0.74675,     0.74775,     0.74875,     0.74975,     0.75075,     0.75175,     0.75275,     0.75375,     0.75475,     0.75576,     0.75676,     0.75776,     0.75876,     0.75976,     0.76076,     0.76176,     0.76276,     0.76376,     0.76476,     0.76577,     0.76677,     0.76777,\n",
       "           0.76877,     0.76977,     0.77077,     0.77177,     0.77277,     0.77377,     0.77477,     0.77578,     0.77678,     0.77778,     0.77878,     0.77978,     0.78078,     0.78178,     0.78278,     0.78378,     0.78478,     0.78579,     0.78679,     0.78779,     0.78879,     0.78979,     0.79079,     0.79179,\n",
       "           0.79279,     0.79379,     0.79479,      0.7958,      0.7968,      0.7978,      0.7988,      0.7998,      0.8008,      0.8018,      0.8028,      0.8038,      0.8048,     0.80581,     0.80681,     0.80781,     0.80881,     0.80981,     0.81081,     0.81181,     0.81281,     0.81381,     0.81481,     0.81582,\n",
       "           0.81682,     0.81782,     0.81882,     0.81982,     0.82082,     0.82182,     0.82282,     0.82382,     0.82482,     0.82583,     0.82683,     0.82783,     0.82883,     0.82983,     0.83083,     0.83183,     0.83283,     0.83383,     0.83483,     0.83584,     0.83684,     0.83784,     0.83884,     0.83984,\n",
       "           0.84084,     0.84184,     0.84284,     0.84384,     0.84484,     0.84585,     0.84685,     0.84785,     0.84885,     0.84985,     0.85085,     0.85185,     0.85285,     0.85385,     0.85485,     0.85586,     0.85686,     0.85786,     0.85886,     0.85986,     0.86086,     0.86186,     0.86286,     0.86386,\n",
       "           0.86486,     0.86587,     0.86687,     0.86787,     0.86887,     0.86987,     0.87087,     0.87187,     0.87287,     0.87387,     0.87487,     0.87588,     0.87688,     0.87788,     0.87888,     0.87988,     0.88088,     0.88188,     0.88288,     0.88388,     0.88488,     0.88589,     0.88689,     0.88789,\n",
       "           0.88889,     0.88989,     0.89089,     0.89189,     0.89289,     0.89389,     0.89489,      0.8959,      0.8969,      0.8979,      0.8989,      0.8999,      0.9009,      0.9019,      0.9029,      0.9039,      0.9049,     0.90591,     0.90691,     0.90791,     0.90891,     0.90991,     0.91091,     0.91191,\n",
       "           0.91291,     0.91391,     0.91491,     0.91592,     0.91692,     0.91792,     0.91892,     0.91992,     0.92092,     0.92192,     0.92292,     0.92392,     0.92492,     0.92593,     0.92693,     0.92793,     0.92893,     0.92993,     0.93093,     0.93193,     0.93293,     0.93393,     0.93493,     0.93594,\n",
       "           0.93694,     0.93794,     0.93894,     0.93994,     0.94094,     0.94194,     0.94294,     0.94394,     0.94494,     0.94595,     0.94695,     0.94795,     0.94895,     0.94995,     0.95095,     0.95195,     0.95295,     0.95395,     0.95495,     0.95596,     0.95696,     0.95796,     0.95896,     0.95996,\n",
       "           0.96096,     0.96196,     0.96296,     0.96396,     0.96496,     0.96597,     0.96697,     0.96797,     0.96897,     0.96997,     0.97097,     0.97197,     0.97297,     0.97397,     0.97497,     0.97598,     0.97698,     0.97798,     0.97898,     0.97998,     0.98098,     0.98198,     0.98298,     0.98398,\n",
       "           0.98498,     0.98599,     0.98699,     0.98799,     0.98899,     0.98999,     0.99099,     0.99199,     0.99299,     0.99399,     0.99499,       0.996,       0.997,       0.998,       0.999,           1]), array([[          1,           1,           1,           1,           1,           1,           1,           1,           1,           1,           1,           1,           1,           1,           1,           1,           1,           1,           1,           1,           1,           1,           1,\n",
       "                  1,           1,           1,           1,           1,           1,           1,           1,           1,           1,           1,           1,           1,           1,           1,           1,           1,           1,           1,           1,           1,           1,           1,\n",
       "                  1,           1,           1,           1,           1,           1,           1,           1,           1,           1,           1,           1,           1,           1,           1,           1,           1,           1,           1,           1,           1,           1,           1,\n",
       "                  1,           1,           1,           1,           1,           1,           1,           1,           1,           1,      0.9963,      0.9963,      0.9963,      0.9963,      0.9963,      0.9963,      0.9963,      0.9963,      0.9963,      0.9963,      0.9963,      0.9963,      0.9963,\n",
       "             0.9963,      0.9963,      0.9963,      0.9963,      0.9963,      0.9963,      0.9963,      0.9963,      0.9963,      0.9963,      0.9963,      0.9963,      0.9963,      0.9963,      0.9963,      0.9963,      0.9963,      0.9963,      0.9963,      0.9963,      0.9963,      0.9963,      0.9963,\n",
       "             0.9963,      0.9963,      0.9963,      0.9963,      0.9963,      0.9963,      0.9963,      0.9963,      0.9963,      0.9963,      0.9963,      0.9963,      0.9963,      0.9963,      0.9963,      0.9963,     0.99437,     0.99437,     0.99437,     0.99437,     0.99437,     0.99437,     0.99437,\n",
       "            0.99437,     0.99437,     0.99437,     0.99437,     0.99437,     0.99437,     0.99437,     0.99437,     0.99437,     0.99437,     0.99437,     0.99437,     0.99437,     0.99437,     0.99437,     0.99437,     0.99437,     0.99437,     0.99437,     0.99437,     0.99437,     0.99437,     0.99437,\n",
       "            0.99437,     0.99437,     0.99437,     0.99437,     0.99437,     0.99437,     0.99437,     0.99437,     0.99437,     0.99437,     0.99437,     0.99162,     0.99036,     0.99036,     0.99036,     0.99036,     0.99036,     0.99036,     0.99036,     0.99036,     0.99036,     0.99036,     0.99036,\n",
       "            0.99036,     0.99036,     0.99036,     0.99036,     0.99036,     0.99036,     0.99036,     0.99036,     0.99036,     0.99036,     0.99036,     0.99036,     0.99036,     0.99036,     0.99036,     0.99036,     0.98967,     0.98967,     0.98967,     0.98967,     0.98967,     0.98967,     0.98967,\n",
       "            0.98967,     0.98967,     0.98967,     0.98967,     0.98967,     0.98967,     0.98967,     0.98967,     0.98967,     0.98967,     0.98967,     0.98967,     0.98967,     0.98967,     0.98967,     0.98967,     0.98967,     0.98967,     0.98967,     0.98967,     0.98967,     0.98967,     0.98967,\n",
       "            0.98967,     0.98967,     0.98967,     0.98805,     0.98805,     0.98805,     0.98805,     0.98805,     0.98805,     0.98805,     0.98805,     0.98772,     0.98772,     0.98772,     0.98772,     0.98772,     0.98772,     0.98772,     0.98772,     0.98772,     0.98772,     0.98772,     0.98772,\n",
       "            0.98772,     0.98772,     0.98772,     0.98772,     0.98772,     0.98772,     0.98772,     0.98772,     0.98772,     0.98772,     0.98772,     0.98772,     0.98772,     0.98772,     0.98772,     0.98772,     0.98772,     0.98772,     0.98772,     0.98772,     0.98772,     0.98642,     0.98642,\n",
       "            0.98642,     0.98642,     0.98642,     0.98642,     0.98642,     0.98642,     0.98642,     0.98517,     0.98517,     0.98517,     0.98517,     0.98517,     0.98517,     0.98517,     0.98517,     0.98395,     0.98395,     0.98395,     0.98395,     0.98395,     0.98395,     0.98395,      0.9831,\n",
       "             0.9831,      0.9831,      0.9831,      0.9831,      0.9831,      0.9831,      0.9831,      0.9831,      0.9831,      0.9831,      0.9831,      0.9831,     0.98174,     0.98174,     0.98174,     0.98174,     0.98174,     0.98174,     0.98174,     0.98174,     0.98174,     0.98174,     0.98174,\n",
       "            0.98174,     0.98174,     0.98174,     0.98174,     0.98174,     0.98174,     0.98174,     0.98174,     0.98174,     0.98174,     0.98174,     0.98174,     0.98174,     0.98174,     0.98174,     0.98174,     0.98174,     0.98174,     0.98163,     0.98163,     0.98163,     0.98163,     0.98163,\n",
       "            0.98163,     0.98163,     0.98163,     0.98163,     0.98163,     0.98163,     0.98163,     0.98163,     0.98163,     0.98163,     0.98163,     0.98163,     0.98163,     0.98163,     0.98163,     0.98163,     0.98163,     0.98163,     0.98163,     0.98163,     0.98163,     0.98163,     0.98163,\n",
       "            0.98163,     0.98163,     0.98163,     0.98163,     0.98163,     0.98163,     0.98163,     0.98163,     0.98163,     0.98163,     0.98163,     0.98163,     0.98163,     0.98163,     0.98163,     0.98163,     0.98163,     0.98163,     0.98163,     0.98163,     0.98163,     0.98163,     0.98163,\n",
       "            0.98163,     0.98163,     0.98163,     0.98163,     0.98163,     0.98163,     0.98163,     0.98163,     0.98163,     0.98163,     0.98163,     0.98163,     0.98163,     0.98163,     0.98163,     0.98163,     0.98163,     0.98163,     0.98163,     0.98163,     0.98163,     0.98163,     0.98163,\n",
       "            0.98163,     0.98163,     0.98119,     0.98119,     0.98119,     0.98119,     0.98119,     0.98119,     0.98119,     0.98119,     0.98119,     0.98119,     0.98119,     0.98119,     0.98119,     0.98119,     0.98119,     0.98085,     0.98085,     0.98085,     0.98085,     0.98085,     0.98085,\n",
       "            0.98085,     0.98085,     0.98085,     0.98085,     0.98085,     0.98085,     0.98085,     0.98085,     0.98085,     0.98085,     0.98085,     0.97983,     0.97888,     0.97888,     0.97799,     0.97799,     0.97799,      0.9772,      0.9772,      0.9772,      0.9772,     0.97622,     0.97568,\n",
       "            0.97568,     0.97568,     0.97568,     0.97568,     0.97568,     0.97568,     0.97568,     0.97568,     0.97507,     0.97507,     0.97507,     0.97507,     0.97507,     0.97507,     0.97507,     0.97337,     0.97337,     0.97337,     0.97337,     0.97337,     0.97252,     0.97252,     0.97233,\n",
       "            0.97233,     0.97233,     0.97233,     0.97233,     0.97233,     0.97233,     0.97233,     0.97233,     0.97233,     0.97233,     0.97233,     0.97233,     0.97178,     0.97178,     0.97178,     0.97178,     0.97178,     0.97178,     0.97178,     0.97043,     0.97043,     0.97043,     0.97043,\n",
       "            0.97043,     0.97043,     0.97043,     0.97043,     0.97043,     0.97043,     0.97043,     0.97043,     0.97043,     0.97043,     0.97043,     0.97043,     0.97043,     0.97043,     0.97043,     0.97043,     0.97043,     0.97043,     0.97043,     0.97043,     0.96978,     0.96978,     0.96978,\n",
       "            0.96978,     0.96914,     0.96914,     0.96914,     0.96914,     0.96752,     0.96752,     0.96678,     0.96678,     0.96615,     0.96615,     0.96615,     0.96549,     0.96549,     0.96549,      0.9649,      0.9649,      0.9649,      0.9649,     0.96477,     0.96477,     0.96477,     0.96477,\n",
       "            0.96477,     0.96477,     0.96477,     0.96477,     0.96477,     0.96477,     0.96477,     0.96408,     0.96408,     0.96262,     0.96262,     0.96201,     0.96201,     0.96201,     0.96129,     0.96053,      0.9599,      0.9599,     0.95928,     0.95928,     0.95928,     0.95874,     0.95874,\n",
       "            0.95874,     0.95833,     0.95833,     0.95833,     0.95833,     0.95833,      0.9576,      0.9569,     0.95625,     0.95566,     0.95566,     0.95566,     0.95422,     0.95362,     0.95362,     0.95219,      0.9516,      0.9516,     0.94802,     0.94668,     0.94526,     0.94474,     0.94474,\n",
       "            0.94338,     0.94292,     0.94292,     0.94292,     0.94234,     0.94234,     0.94171,     0.94047,     0.94047,     0.94003,     0.94003,     0.94003,     0.93917,     0.93917,     0.93917,     0.93917,     0.93917,     0.93722,     0.93722,     0.93695,     0.93695,     0.93695,     0.93695,\n",
       "            0.93636,      0.9345,      0.9345,     0.93387,     0.93193,     0.93141,     0.92888,     0.92826,     0.92801,     0.92801,     0.92801,     0.92801,     0.92756,     0.92756,       0.927,     0.92416,     0.92416,     0.92416,     0.92416,     0.92238,     0.92195,     0.92195,     0.92008,\n",
       "            0.91845,     0.91845,     0.91604,     0.91189,     0.91189,     0.91088,     0.91088,     0.91039,     0.90928,     0.90878,     0.90524,     0.90489,     0.90489,     0.90454,     0.90454,     0.90226,      0.9006,     0.89901,     0.89698,     0.89698,     0.89353,     0.88731,     0.88638,\n",
       "            0.88531,     0.88447,     0.88447,     0.88307,     0.88307,     0.88265,     0.87833,     0.87793,     0.87421,     0.87016,     0.87016,     0.86609,      0.8658,     0.86481,     0.86392,     0.86196,     0.85958,     0.85915,     0.85775,     0.85429,     0.85045,     0.85003,     0.84818,\n",
       "            0.84232,     0.83854,     0.83149,     0.82745,     0.82745,     0.82679,     0.82366,      0.8236,      0.8236,     0.82239,     0.81618,      0.8149,     0.81236,     0.80624,     0.80155,     0.80132,     0.80066,     0.79748,     0.79585,     0.79434,     0.79155,     0.77666,     0.76247,\n",
       "            0.75839,     0.75591,     0.75422,     0.74987,     0.74747,     0.74322,      0.7405,     0.73416,     0.72545,      0.7229,     0.72141,     0.72029,     0.71965,      0.7191,      0.7115,     0.70442,     0.70168,     0.69533,     0.69019,     0.68733,     0.67835,      0.6726,     0.65855,\n",
       "            0.64814,     0.64568,     0.63202,     0.62148,     0.61851,     0.60604,     0.59898,     0.58756,     0.58273,     0.57047,     0.56197,      0.5526,     0.55154,     0.54736,      0.5372,     0.53326,     0.52921,      0.5263,     0.51681,     0.51524,     0.51066,     0.50323,     0.49399,\n",
       "            0.49089,     0.48815,     0.48305,     0.46992,     0.46716,     0.45465,     0.44952,     0.44463,     0.44295,     0.44141,     0.43302,     0.42282,     0.40361,      0.4002,     0.38981,     0.38727,     0.38301,     0.38157,     0.38101,     0.37264,      0.3677,     0.36664,     0.36198,\n",
       "            0.34914,     0.34569,      0.3442,     0.34136,     0.33863,     0.33292,     0.32881,     0.32539,     0.32307,     0.31742,     0.31293,     0.31206,     0.30698,     0.30337,     0.30097,     0.29882,     0.29847,     0.29679,      0.2907,     0.28409,     0.27515,     0.27075,     0.25948,\n",
       "            0.25453,     0.25305,     0.25182,      0.2385,     0.22698,     0.22474,     0.21537,     0.20966,     0.19794,     0.19732,     0.18942,     0.18623,     0.18497,     0.18048,     0.17829,     0.17448,     0.17324,     0.17265,     0.16928,     0.16832,     0.16721,     0.15988,     0.15611,\n",
       "            0.15252,     0.14641,     0.14416,     0.13781,     0.13495,     0.11834,     0.11377,     0.10405,     0.10051,    0.097949,    0.097531,    0.090818,     0.07646,    0.075979,    0.075499,    0.075018,    0.074537,    0.074056,    0.073575,    0.073094,    0.072613,    0.072132,    0.071652,\n",
       "           0.071171,     0.07069,    0.070209,    0.069728,    0.069247,    0.068766,    0.068285,    0.067804,    0.067324,    0.066843,    0.066362,    0.065881,      0.0654,    0.064919,    0.064438,    0.063957,    0.063477,    0.062996,    0.062515,    0.062034,    0.061553,    0.061072,    0.060591,\n",
       "            0.06011,    0.059629,    0.059149,    0.058668,    0.058187,    0.057706,    0.057225,    0.056744,    0.056263,    0.055782,    0.055302,    0.054821,     0.05434,    0.053859,    0.053378,    0.052897,    0.052416,    0.051935,    0.051454,    0.050974,    0.050493,    0.050012,    0.049531,\n",
       "            0.04905,    0.048569,    0.048088,    0.047607,    0.047127,    0.046646,    0.046165,    0.045684,    0.045203,    0.044722,    0.044241,     0.04376,    0.043279,    0.042799,    0.042318,    0.041837,    0.041356,    0.040875,    0.040394,    0.039913,    0.039432,    0.038951,    0.038471,\n",
       "            0.03799,    0.037509,    0.037028,    0.036547,    0.036066,    0.035585,    0.035104,    0.034624,    0.034143,    0.033662,    0.033181,      0.0327,    0.032219,    0.031738,    0.031257,    0.030776,    0.030296,    0.029815,    0.029334,    0.028853,    0.028372,    0.027891,     0.02741,\n",
       "           0.026929,    0.026449,    0.025968,    0.025487,    0.025006,    0.024525,    0.024044,    0.023563,    0.023082,    0.022601,    0.022121,     0.02164,    0.021159,    0.020678,    0.020197,    0.019716,    0.019235,    0.018754,    0.018274,    0.017793,    0.017312,    0.016831,     0.01635,\n",
       "           0.015869,    0.015388,    0.014907,    0.014426,    0.013946,    0.013465,    0.012984,    0.012503,    0.012022,    0.011541,     0.01106,    0.010579,    0.010099,   0.0096177,   0.0091368,   0.0086559,    0.008175,   0.0076941,   0.0072132,   0.0067324,   0.0062515,   0.0057706,   0.0052897,\n",
       "          0.0048088,   0.0043279,   0.0038471,   0.0033662,   0.0028853,   0.0024044,   0.0019235,   0.0014426,  0.00096177,  0.00048088,           0]]), 'Recall', 'Precision'], [array([          0,    0.001001,    0.002002,    0.003003,    0.004004,    0.005005,    0.006006,    0.007007,    0.008008,    0.009009,     0.01001,    0.011011,    0.012012,    0.013013,    0.014014,    0.015015,    0.016016,    0.017017,    0.018018,    0.019019,     0.02002,    0.021021,    0.022022,    0.023023,\n",
       "          0.024024,    0.025025,    0.026026,    0.027027,    0.028028,    0.029029,     0.03003,    0.031031,    0.032032,    0.033033,    0.034034,    0.035035,    0.036036,    0.037037,    0.038038,    0.039039,     0.04004,    0.041041,    0.042042,    0.043043,    0.044044,    0.045045,    0.046046,    0.047047,\n",
       "          0.048048,    0.049049,     0.05005,    0.051051,    0.052052,    0.053053,    0.054054,    0.055055,    0.056056,    0.057057,    0.058058,    0.059059,     0.06006,    0.061061,    0.062062,    0.063063,    0.064064,    0.065065,    0.066066,    0.067067,    0.068068,    0.069069,     0.07007,    0.071071,\n",
       "          0.072072,    0.073073,    0.074074,    0.075075,    0.076076,    0.077077,    0.078078,    0.079079,     0.08008,    0.081081,    0.082082,    0.083083,    0.084084,    0.085085,    0.086086,    0.087087,    0.088088,    0.089089,     0.09009,    0.091091,    0.092092,    0.093093,    0.094094,    0.095095,\n",
       "          0.096096,    0.097097,    0.098098,    0.099099,      0.1001,      0.1011,      0.1021,      0.1031,      0.1041,     0.10511,     0.10611,     0.10711,     0.10811,     0.10911,     0.11011,     0.11111,     0.11211,     0.11311,     0.11411,     0.11512,     0.11612,     0.11712,     0.11812,     0.11912,\n",
       "           0.12012,     0.12112,     0.12212,     0.12312,     0.12412,     0.12513,     0.12613,     0.12713,     0.12813,     0.12913,     0.13013,     0.13113,     0.13213,     0.13313,     0.13413,     0.13514,     0.13614,     0.13714,     0.13814,     0.13914,     0.14014,     0.14114,     0.14214,     0.14314,\n",
       "           0.14414,     0.14515,     0.14615,     0.14715,     0.14815,     0.14915,     0.15015,     0.15115,     0.15215,     0.15315,     0.15415,     0.15516,     0.15616,     0.15716,     0.15816,     0.15916,     0.16016,     0.16116,     0.16216,     0.16316,     0.16416,     0.16517,     0.16617,     0.16717,\n",
       "           0.16817,     0.16917,     0.17017,     0.17117,     0.17217,     0.17317,     0.17417,     0.17518,     0.17618,     0.17718,     0.17818,     0.17918,     0.18018,     0.18118,     0.18218,     0.18318,     0.18418,     0.18519,     0.18619,     0.18719,     0.18819,     0.18919,     0.19019,     0.19119,\n",
       "           0.19219,     0.19319,     0.19419,      0.1952,      0.1962,      0.1972,      0.1982,      0.1992,      0.2002,      0.2012,      0.2022,      0.2032,      0.2042,     0.20521,     0.20621,     0.20721,     0.20821,     0.20921,     0.21021,     0.21121,     0.21221,     0.21321,     0.21421,     0.21522,\n",
       "           0.21622,     0.21722,     0.21822,     0.21922,     0.22022,     0.22122,     0.22222,     0.22322,     0.22422,     0.22523,     0.22623,     0.22723,     0.22823,     0.22923,     0.23023,     0.23123,     0.23223,     0.23323,     0.23423,     0.23524,     0.23624,     0.23724,     0.23824,     0.23924,\n",
       "           0.24024,     0.24124,     0.24224,     0.24324,     0.24424,     0.24525,     0.24625,     0.24725,     0.24825,     0.24925,     0.25025,     0.25125,     0.25225,     0.25325,     0.25425,     0.25526,     0.25626,     0.25726,     0.25826,     0.25926,     0.26026,     0.26126,     0.26226,     0.26326,\n",
       "           0.26426,     0.26527,     0.26627,     0.26727,     0.26827,     0.26927,     0.27027,     0.27127,     0.27227,     0.27327,     0.27427,     0.27528,     0.27628,     0.27728,     0.27828,     0.27928,     0.28028,     0.28128,     0.28228,     0.28328,     0.28428,     0.28529,     0.28629,     0.28729,\n",
       "           0.28829,     0.28929,     0.29029,     0.29129,     0.29229,     0.29329,     0.29429,      0.2953,      0.2963,      0.2973,      0.2983,      0.2993,      0.3003,      0.3013,      0.3023,      0.3033,      0.3043,     0.30531,     0.30631,     0.30731,     0.30831,     0.30931,     0.31031,     0.31131,\n",
       "           0.31231,     0.31331,     0.31431,     0.31532,     0.31632,     0.31732,     0.31832,     0.31932,     0.32032,     0.32132,     0.32232,     0.32332,     0.32432,     0.32533,     0.32633,     0.32733,     0.32833,     0.32933,     0.33033,     0.33133,     0.33233,     0.33333,     0.33433,     0.33534,\n",
       "           0.33634,     0.33734,     0.33834,     0.33934,     0.34034,     0.34134,     0.34234,     0.34334,     0.34434,     0.34535,     0.34635,     0.34735,     0.34835,     0.34935,     0.35035,     0.35135,     0.35235,     0.35335,     0.35435,     0.35536,     0.35636,     0.35736,     0.35836,     0.35936,\n",
       "           0.36036,     0.36136,     0.36236,     0.36336,     0.36436,     0.36537,     0.36637,     0.36737,     0.36837,     0.36937,     0.37037,     0.37137,     0.37237,     0.37337,     0.37437,     0.37538,     0.37638,     0.37738,     0.37838,     0.37938,     0.38038,     0.38138,     0.38238,     0.38338,\n",
       "           0.38438,     0.38539,     0.38639,     0.38739,     0.38839,     0.38939,     0.39039,     0.39139,     0.39239,     0.39339,     0.39439,      0.3954,      0.3964,      0.3974,      0.3984,      0.3994,      0.4004,      0.4014,      0.4024,      0.4034,      0.4044,     0.40541,     0.40641,     0.40741,\n",
       "           0.40841,     0.40941,     0.41041,     0.41141,     0.41241,     0.41341,     0.41441,     0.41542,     0.41642,     0.41742,     0.41842,     0.41942,     0.42042,     0.42142,     0.42242,     0.42342,     0.42442,     0.42543,     0.42643,     0.42743,     0.42843,     0.42943,     0.43043,     0.43143,\n",
       "           0.43243,     0.43343,     0.43443,     0.43544,     0.43644,     0.43744,     0.43844,     0.43944,     0.44044,     0.44144,     0.44244,     0.44344,     0.44444,     0.44545,     0.44645,     0.44745,     0.44845,     0.44945,     0.45045,     0.45145,     0.45245,     0.45345,     0.45445,     0.45546,\n",
       "           0.45646,     0.45746,     0.45846,     0.45946,     0.46046,     0.46146,     0.46246,     0.46346,     0.46446,     0.46547,     0.46647,     0.46747,     0.46847,     0.46947,     0.47047,     0.47147,     0.47247,     0.47347,     0.47447,     0.47548,     0.47648,     0.47748,     0.47848,     0.47948,\n",
       "           0.48048,     0.48148,     0.48248,     0.48348,     0.48448,     0.48549,     0.48649,     0.48749,     0.48849,     0.48949,     0.49049,     0.49149,     0.49249,     0.49349,     0.49449,      0.4955,      0.4965,      0.4975,      0.4985,      0.4995,      0.5005,      0.5015,      0.5025,      0.5035,\n",
       "            0.5045,     0.50551,     0.50651,     0.50751,     0.50851,     0.50951,     0.51051,     0.51151,     0.51251,     0.51351,     0.51451,     0.51552,     0.51652,     0.51752,     0.51852,     0.51952,     0.52052,     0.52152,     0.52252,     0.52352,     0.52452,     0.52553,     0.52653,     0.52753,\n",
       "           0.52853,     0.52953,     0.53053,     0.53153,     0.53253,     0.53353,     0.53453,     0.53554,     0.53654,     0.53754,     0.53854,     0.53954,     0.54054,     0.54154,     0.54254,     0.54354,     0.54454,     0.54555,     0.54655,     0.54755,     0.54855,     0.54955,     0.55055,     0.55155,\n",
       "           0.55255,     0.55355,     0.55455,     0.55556,     0.55656,     0.55756,     0.55856,     0.55956,     0.56056,     0.56156,     0.56256,     0.56356,     0.56456,     0.56557,     0.56657,     0.56757,     0.56857,     0.56957,     0.57057,     0.57157,     0.57257,     0.57357,     0.57457,     0.57558,\n",
       "           0.57658,     0.57758,     0.57858,     0.57958,     0.58058,     0.58158,     0.58258,     0.58358,     0.58458,     0.58559,     0.58659,     0.58759,     0.58859,     0.58959,     0.59059,     0.59159,     0.59259,     0.59359,     0.59459,      0.5956,      0.5966,      0.5976,      0.5986,      0.5996,\n",
       "            0.6006,      0.6016,      0.6026,      0.6036,      0.6046,     0.60561,     0.60661,     0.60761,     0.60861,     0.60961,     0.61061,     0.61161,     0.61261,     0.61361,     0.61461,     0.61562,     0.61662,     0.61762,     0.61862,     0.61962,     0.62062,     0.62162,     0.62262,     0.62362,\n",
       "           0.62462,     0.62563,     0.62663,     0.62763,     0.62863,     0.62963,     0.63063,     0.63163,     0.63263,     0.63363,     0.63463,     0.63564,     0.63664,     0.63764,     0.63864,     0.63964,     0.64064,     0.64164,     0.64264,     0.64364,     0.64464,     0.64565,     0.64665,     0.64765,\n",
       "           0.64865,     0.64965,     0.65065,     0.65165,     0.65265,     0.65365,     0.65465,     0.65566,     0.65666,     0.65766,     0.65866,     0.65966,     0.66066,     0.66166,     0.66266,     0.66366,     0.66466,     0.66567,     0.66667,     0.66767,     0.66867,     0.66967,     0.67067,     0.67167,\n",
       "           0.67267,     0.67367,     0.67467,     0.67568,     0.67668,     0.67768,     0.67868,     0.67968,     0.68068,     0.68168,     0.68268,     0.68368,     0.68468,     0.68569,     0.68669,     0.68769,     0.68869,     0.68969,     0.69069,     0.69169,     0.69269,     0.69369,     0.69469,      0.6957,\n",
       "            0.6967,      0.6977,      0.6987,      0.6997,      0.7007,      0.7017,      0.7027,      0.7037,      0.7047,     0.70571,     0.70671,     0.70771,     0.70871,     0.70971,     0.71071,     0.71171,     0.71271,     0.71371,     0.71471,     0.71572,     0.71672,     0.71772,     0.71872,     0.71972,\n",
       "           0.72072,     0.72172,     0.72272,     0.72372,     0.72472,     0.72573,     0.72673,     0.72773,     0.72873,     0.72973,     0.73073,     0.73173,     0.73273,     0.73373,     0.73473,     0.73574,     0.73674,     0.73774,     0.73874,     0.73974,     0.74074,     0.74174,     0.74274,     0.74374,\n",
       "           0.74474,     0.74575,     0.74675,     0.74775,     0.74875,     0.74975,     0.75075,     0.75175,     0.75275,     0.75375,     0.75475,     0.75576,     0.75676,     0.75776,     0.75876,     0.75976,     0.76076,     0.76176,     0.76276,     0.76376,     0.76476,     0.76577,     0.76677,     0.76777,\n",
       "           0.76877,     0.76977,     0.77077,     0.77177,     0.77277,     0.77377,     0.77477,     0.77578,     0.77678,     0.77778,     0.77878,     0.77978,     0.78078,     0.78178,     0.78278,     0.78378,     0.78478,     0.78579,     0.78679,     0.78779,     0.78879,     0.78979,     0.79079,     0.79179,\n",
       "           0.79279,     0.79379,     0.79479,      0.7958,      0.7968,      0.7978,      0.7988,      0.7998,      0.8008,      0.8018,      0.8028,      0.8038,      0.8048,     0.80581,     0.80681,     0.80781,     0.80881,     0.80981,     0.81081,     0.81181,     0.81281,     0.81381,     0.81481,     0.81582,\n",
       "           0.81682,     0.81782,     0.81882,     0.81982,     0.82082,     0.82182,     0.82282,     0.82382,     0.82482,     0.82583,     0.82683,     0.82783,     0.82883,     0.82983,     0.83083,     0.83183,     0.83283,     0.83383,     0.83483,     0.83584,     0.83684,     0.83784,     0.83884,     0.83984,\n",
       "           0.84084,     0.84184,     0.84284,     0.84384,     0.84484,     0.84585,     0.84685,     0.84785,     0.84885,     0.84985,     0.85085,     0.85185,     0.85285,     0.85385,     0.85485,     0.85586,     0.85686,     0.85786,     0.85886,     0.85986,     0.86086,     0.86186,     0.86286,     0.86386,\n",
       "           0.86486,     0.86587,     0.86687,     0.86787,     0.86887,     0.86987,     0.87087,     0.87187,     0.87287,     0.87387,     0.87487,     0.87588,     0.87688,     0.87788,     0.87888,     0.87988,     0.88088,     0.88188,     0.88288,     0.88388,     0.88488,     0.88589,     0.88689,     0.88789,\n",
       "           0.88889,     0.88989,     0.89089,     0.89189,     0.89289,     0.89389,     0.89489,      0.8959,      0.8969,      0.8979,      0.8989,      0.8999,      0.9009,      0.9019,      0.9029,      0.9039,      0.9049,     0.90591,     0.90691,     0.90791,     0.90891,     0.90991,     0.91091,     0.91191,\n",
       "           0.91291,     0.91391,     0.91491,     0.91592,     0.91692,     0.91792,     0.91892,     0.91992,     0.92092,     0.92192,     0.92292,     0.92392,     0.92492,     0.92593,     0.92693,     0.92793,     0.92893,     0.92993,     0.93093,     0.93193,     0.93293,     0.93393,     0.93493,     0.93594,\n",
       "           0.93694,     0.93794,     0.93894,     0.93994,     0.94094,     0.94194,     0.94294,     0.94394,     0.94494,     0.94595,     0.94695,     0.94795,     0.94895,     0.94995,     0.95095,     0.95195,     0.95295,     0.95395,     0.95495,     0.95596,     0.95696,     0.95796,     0.95896,     0.95996,\n",
       "           0.96096,     0.96196,     0.96296,     0.96396,     0.96496,     0.96597,     0.96697,     0.96797,     0.96897,     0.96997,     0.97097,     0.97197,     0.97297,     0.97397,     0.97497,     0.97598,     0.97698,     0.97798,     0.97898,     0.97998,     0.98098,     0.98198,     0.98298,     0.98398,\n",
       "           0.98498,     0.98599,     0.98699,     0.98799,     0.98899,     0.98999,     0.99099,     0.99199,     0.99299,     0.99399,     0.99499,       0.996,       0.997,       0.998,       0.999,           1]), array([[    0.14041,     0.14041,     0.20691,     0.25499,     0.28941,     0.31784,     0.34261,     0.36232,     0.38177,     0.39749,     0.41467,     0.42777,       0.439,     0.44989,     0.46177,      0.4727,     0.48033,     0.48962,     0.49729,     0.50307,     0.51036,     0.51488,     0.52128,\n",
       "             0.5279,     0.53457,     0.53888,     0.54506,     0.54999,     0.55498,     0.56072,     0.56394,     0.56856,     0.57271,     0.57812,     0.58128,     0.58572,      0.5884,     0.59215,     0.59555,     0.59771,     0.60108,     0.60474,     0.60781,     0.61125,     0.61343,      0.6154,\n",
       "            0.61858,     0.62097,     0.62331,     0.62551,     0.62749,     0.63016,     0.63257,     0.63432,     0.63562,     0.63703,      0.6407,     0.64176,     0.64354,     0.64584,      0.6473,     0.65021,     0.65328,     0.65486,     0.65628,     0.65841,     0.66072,     0.66304,     0.66406,\n",
       "            0.66598,     0.66725,     0.66873,     0.67003,     0.67205,      0.6738,     0.67438,     0.67643,     0.67833,     0.67976,     0.68032,     0.68147,     0.68272,       0.685,     0.68552,     0.68652,     0.68766,     0.68932,     0.69067,      0.6919,     0.69385,       0.695,     0.69662,\n",
       "            0.69823,     0.69956,     0.70153,     0.70238,     0.70348,     0.70431,     0.70498,     0.70595,      0.7066,     0.70767,     0.70906,     0.71024,     0.71057,     0.71153,     0.71196,     0.71277,      0.7138,     0.71443,     0.71572,     0.71606,     0.71611,     0.71739,     0.71874,\n",
       "            0.71948,      0.7203,     0.72119,     0.72172,     0.72221,     0.72276,     0.72245,     0.72255,     0.72237,     0.72234,      0.7229,     0.72387,     0.72478,     0.72557,     0.72669,     0.72744,     0.72693,     0.72795,     0.72837,     0.72877,     0.72951,     0.72993,     0.73051,\n",
       "            0.73094,     0.73073,     0.73146,     0.73171,     0.73243,     0.73216,     0.73268,      0.7337,     0.73453,      0.7345,     0.73493,     0.73452,     0.73507,     0.73529,     0.73552,     0.73634,      0.7363,     0.73655,     0.73638,     0.73662,     0.73696,     0.73722,     0.73744,\n",
       "            0.73784,     0.73895,     0.73984,     0.74058,     0.74206,      0.7426,     0.74255,     0.74283,     0.74344,      0.7441,      0.7447,     0.74517,     0.74625,     0.74698,     0.74719,     0.74746,     0.74876,     0.74917,     0.74952,     0.74957,     0.74928,     0.74975,     0.74956,\n",
       "            0.75025,     0.74995,     0.75015,     0.75017,     0.75059,     0.75069,      0.7505,     0.74998,     0.75005,     0.75021,     0.75037,     0.75066,     0.75098,     0.75162,     0.75171,     0.75137,     0.75144,     0.75156,     0.75172,     0.75235,     0.75251,     0.75301,     0.75349,\n",
       "            0.75354,      0.7538,     0.75379,     0.75388,     0.75418,     0.75401,     0.75406,     0.75387,     0.75395,     0.75402,     0.75463,     0.75507,     0.75522,      0.7557,     0.75595,     0.75624,     0.75605,     0.75627,     0.75537,     0.75498,     0.75494,     0.75542,     0.75571,\n",
       "             0.7558,     0.75572,     0.75531,      0.7554,      0.7553,     0.75521,     0.75512,      0.7545,     0.75464,     0.75526,     0.75542,     0.75554,     0.75564,     0.75599,     0.75583,     0.75558,     0.75542,      0.7558,     0.75598,     0.75616,     0.75625,     0.75639,     0.75666,\n",
       "            0.75683,     0.75701,     0.75729,     0.75796,     0.75791,     0.75837,     0.75851,     0.75868,     0.75897,     0.75906,     0.75884,     0.75932,     0.75967,     0.75995,     0.76051,     0.76059,     0.76079,     0.76071,     0.76091,     0.76075,     0.76033,     0.76079,     0.76094,\n",
       "            0.76122,     0.76145,     0.76134,     0.76124,     0.76132,     0.76148,     0.76198,     0.76176,       0.762,     0.76217,     0.76222,     0.76201,     0.76213,     0.76227,     0.76213,     0.76211,     0.76195,     0.76204,     0.76173,     0.76152,     0.76197,     0.76175,     0.76192,\n",
       "            0.76198,     0.76203,     0.76208,     0.76213,     0.76208,     0.76201,     0.76194,     0.76187,     0.76181,     0.76235,     0.76193,     0.76179,     0.76165,     0.76192,     0.76174,     0.76117,     0.76108,     0.76131,     0.76108,     0.76125,     0.76127,      0.7612,     0.76144,\n",
       "             0.7617,     0.76167,     0.76124,     0.76098,     0.76123,     0.76143,     0.76165,     0.76163,     0.76144,     0.76191,     0.76215,     0.76205,     0.76252,     0.76281,     0.76286,      0.7629,     0.76295,     0.76281,     0.76295,     0.76281,     0.76243,     0.76194,     0.76219,\n",
       "            0.76231,     0.76238,     0.76245,     0.76252,     0.76283,     0.76296,     0.76303,     0.76311,     0.76324,     0.76346,     0.76307,     0.76304,     0.76288,     0.76212,     0.76216,     0.76169,     0.76125,     0.76107,     0.76128,     0.76113,      0.7612,     0.76127,     0.76149,\n",
       "            0.76105,     0.76092,     0.76073,     0.76054,     0.76075,     0.76075,     0.76068,     0.76068,     0.76076,     0.76084,     0.76105,     0.76148,     0.76212,     0.76236,     0.76247,     0.76243,     0.76227,     0.76288,     0.76301,     0.76312,     0.76323,     0.76333,     0.76175,\n",
       "            0.76182,     0.76189,     0.76219,     0.76223,     0.76203,     0.76221,     0.76208,     0.76212,     0.76194,       0.762,     0.76179,      0.7618,     0.76191,     0.76212,     0.76199,     0.76181,     0.76187,     0.76195,     0.76206,     0.76228,     0.76234,     0.76225,     0.76207,\n",
       "            0.76144,     0.76104,     0.76055,     0.76019,     0.75983,     0.75989,     0.75997,     0.75984,     0.76006,     0.76033,     0.75985,        0.76,     0.75957,     0.75961,     0.75965,      0.7597,     0.75974,     0.75972,     0.75954,     0.75936,     0.75918,      0.7591,     0.75918,\n",
       "            0.75926,     0.75833,     0.75825,     0.75817,     0.75799,     0.75767,     0.75731,     0.75743,     0.75787,     0.75852,     0.75821,     0.75806,     0.75826,     0.75835,     0.75842,     0.75849,     0.75854,     0.75834,     0.75814,     0.75796,      0.7577,     0.75689,     0.75706,\n",
       "            0.75717,     0.75725,      0.7572,     0.75764,     0.75716,     0.75691,     0.75672,     0.75646,     0.75644,     0.75632,      0.7562,     0.75611,     0.75604,     0.75597,     0.75589,     0.75582,     0.75601,     0.75569,     0.75593,     0.75575,     0.75521,     0.75502,     0.75429,\n",
       "            0.75395,     0.75386,     0.75377,     0.75367,     0.75383,     0.75388,     0.75394,     0.75399,     0.75409,     0.75432,     0.75435,     0.75419,     0.75419,      0.7537,     0.75331,     0.75294,     0.75254,     0.75242,      0.7523,     0.75204,     0.75167,     0.75147,      0.7514,\n",
       "            0.75133,     0.75125,     0.75118,     0.75074,     0.75067,     0.75059,     0.75052,     0.75045,     0.75039,     0.75034,     0.75028,     0.75023,     0.75018,     0.75012,     0.74971,     0.74979,     0.74986,     0.74992,     0.74979,     0.74967,      0.7496,      0.7494,     0.74927,\n",
       "            0.74915,     0.74896,     0.74897,     0.74941,     0.74878,     0.74859,     0.74841,     0.74847,     0.74828,     0.74836,     0.74843,     0.74841,     0.74828,     0.74816,     0.74789,     0.74752,     0.74715,     0.74724,     0.74714,     0.74705,     0.74696,     0.74687,     0.74649,\n",
       "            0.74575,     0.74501,     0.74426,     0.74394,     0.74405,     0.74316,     0.74306,     0.74323,     0.74334,     0.74231,     0.74166,     0.74147,     0.74117,     0.74079,     0.74022,     0.74013,     0.74003,     0.73994,     0.73963,     0.73925,     0.73926,     0.73937,     0.73944,\n",
       "            0.73925,     0.73852,     0.73814,     0.73738,     0.73748,     0.73758,     0.73681,     0.73644,     0.73591,     0.73588,     0.73569,     0.73538,     0.73521,     0.73514,     0.73508,     0.73502,     0.73495,     0.73489,     0.73506,     0.73439,     0.73401,     0.73336,     0.73293,\n",
       "             0.7325,     0.73241,     0.73267,     0.73254,     0.73242,     0.73176,       0.731,     0.73092,     0.73103,     0.73071,     0.73082,     0.73093,     0.73104,     0.73102,     0.73002,     0.73013,     0.73029,     0.73013,     0.73044,     0.73036,     0.73017,     0.73038,     0.72954,\n",
       "            0.72946,     0.72938,      0.7293,     0.72904,     0.72878,     0.72866,     0.72868,     0.72809,      0.7277,     0.72739,     0.72713,     0.72685,     0.72675,     0.72704,     0.72684,     0.72657,     0.72562,      0.7252,     0.72541,     0.72489,     0.72476,     0.72446,      0.7243,\n",
       "            0.72415,     0.72384,     0.72385,     0.72368,     0.72309,     0.72172,     0.72094,     0.71977,     0.71954,     0.71969,     0.71859,     0.71741,     0.71701,     0.71644,     0.71535,     0.71449,     0.71379,     0.71359,     0.71276,     0.71281,     0.71286,     0.71291,     0.71296,\n",
       "             0.7127,     0.71151,     0.71071,     0.70935,     0.70913,     0.70796,     0.70784,     0.70694,     0.70674,     0.70635,     0.70503,     0.70483,     0.70372,     0.70151,     0.70071,     0.70054,     0.70038,     0.69938,     0.69917,     0.69879,     0.69888,     0.69867,     0.69791,\n",
       "            0.69699,     0.69633,     0.69612,     0.69586,     0.69539,     0.69511,     0.69368,     0.69347,     0.69341,     0.69266,     0.69122,     0.69083,     0.68975,     0.68952,     0.68854,     0.68628,     0.68586,     0.68568,      0.6854,     0.68501,     0.68361,      0.6834,     0.68247,\n",
       "            0.68261,     0.68115,     0.67914,     0.67854,     0.67808,     0.67765,     0.67736,     0.67455,       0.673,     0.67272,     0.67192,     0.67149,        0.67,     0.66949,      0.6685,     0.66731,     0.66656,     0.66597,     0.66575,     0.66509,     0.66479,     0.66371,     0.66349,\n",
       "              0.662,     0.66205,     0.66176,     0.66018,     0.65906,     0.65884,     0.65806,     0.65762,     0.65653,     0.65624,     0.65477,     0.65196,     0.65167,     0.64995,     0.64841,     0.64783,     0.64663,     0.64645,     0.64557,     0.64431,     0.64397,     0.64304,     0.64214,\n",
       "            0.64058,     0.64011,       0.639,     0.63888,     0.63784,     0.63651,      0.6362,     0.63535,     0.63422,     0.63321,     0.63261,     0.63039,     0.63008,     0.62626,     0.62395,     0.62347,     0.62282,     0.62047,     0.61886,     0.61837,     0.61789,     0.61578,     0.61457,\n",
       "            0.61151,      0.6099,     0.60709,     0.60568,     0.60347,     0.60284,     0.60107,     0.60046,     0.59914,     0.59908,     0.59787,      0.5973,     0.59702,     0.59678,     0.59588,     0.59407,      0.5925,     0.58984,     0.58717,     0.58382,     0.58396,     0.58247,     0.57935,\n",
       "            0.57756,     0.57566,     0.57507,     0.57308,     0.57207,     0.57106,     0.56723,     0.56657,     0.56555,     0.56511,     0.56152,      0.5595,     0.55518,     0.55392,     0.55035,     0.54527,     0.54439,     0.54055,     0.54002,     0.53589,     0.53302,     0.53084,     0.52987,\n",
       "             0.5287,     0.52658,     0.52307,     0.52029,     0.51869,     0.51664,     0.51395,     0.51072,     0.50747,     0.50463,     0.50274,         0.5,     0.49672,     0.49397,     0.49173,     0.48839,      0.4856,     0.48291,     0.48253,     0.47996,     0.47713,     0.47297,     0.47067,\n",
       "            0.46724,      0.4638,     0.46082,     0.45909,     0.45743,     0.45467,     0.45288,     0.45056,     0.44604,     0.44014,     0.43587,     0.43255,     0.42731,     0.42428,     0.42063,      0.4192,     0.41451,     0.40713,     0.40279,     0.39966,      0.3959,     0.39482,     0.39334,\n",
       "            0.38884,     0.38762,     0.38459,     0.38295,     0.37945,     0.37446,       0.368,     0.36343,     0.36145,     0.35553,     0.34693,     0.34358,     0.33619,      0.3328,     0.32749,     0.32269,     0.31496,     0.30955,     0.30674,     0.30101,     0.29828,     0.29143,     0.28713,\n",
       "             0.2749,     0.27197,      0.2683,      0.2606,     0.25283,     0.24606,     0.23708,     0.23243,     0.22038,     0.21482,     0.20623,     0.20148,     0.19672,     0.19113,     0.18311,     0.17905,     0.17254,      0.1668,      0.1602,     0.15521,     0.14937,     0.14438,     0.14183,\n",
       "            0.13337,     0.13162,     0.12653,     0.12129,     0.10916,     0.10301,    0.098587,    0.094138,    0.088782,    0.087625,     0.08335,    0.079727,    0.074289,    0.069726,    0.065141,    0.062362,    0.055906,    0.052178,    0.049362,     0.04468,    0.039975,    0.035248,    0.033322,\n",
       "           0.029507,    0.027571,     0.02563,    0.018927,    0.016203,    0.015008,    0.011122,   0.0098937,   0.0081363,   0.0072182,   0.0057044,    0.005374,   0.0050435,    0.004029,   0.0032687,    0.002453,   0.0018216,   0.0015729,   0.0013241,   0.0010752,           0,           0,           0,\n",
       "                  0,           0,           0,           0,           0,           0,           0,           0,           0,           0,           0,           0,           0,           0,           0,           0,           0,           0,           0,           0,           0,           0,           0,\n",
       "                  0,           0,           0,           0,           0,           0,           0,           0,           0,           0,           0]]), 'Confidence', 'F1'], [array([          0,    0.001001,    0.002002,    0.003003,    0.004004,    0.005005,    0.006006,    0.007007,    0.008008,    0.009009,     0.01001,    0.011011,    0.012012,    0.013013,    0.014014,    0.015015,    0.016016,    0.017017,    0.018018,    0.019019,     0.02002,    0.021021,    0.022022,    0.023023,\n",
       "          0.024024,    0.025025,    0.026026,    0.027027,    0.028028,    0.029029,     0.03003,    0.031031,    0.032032,    0.033033,    0.034034,    0.035035,    0.036036,    0.037037,    0.038038,    0.039039,     0.04004,    0.041041,    0.042042,    0.043043,    0.044044,    0.045045,    0.046046,    0.047047,\n",
       "          0.048048,    0.049049,     0.05005,    0.051051,    0.052052,    0.053053,    0.054054,    0.055055,    0.056056,    0.057057,    0.058058,    0.059059,     0.06006,    0.061061,    0.062062,    0.063063,    0.064064,    0.065065,    0.066066,    0.067067,    0.068068,    0.069069,     0.07007,    0.071071,\n",
       "          0.072072,    0.073073,    0.074074,    0.075075,    0.076076,    0.077077,    0.078078,    0.079079,     0.08008,    0.081081,    0.082082,    0.083083,    0.084084,    0.085085,    0.086086,    0.087087,    0.088088,    0.089089,     0.09009,    0.091091,    0.092092,    0.093093,    0.094094,    0.095095,\n",
       "          0.096096,    0.097097,    0.098098,    0.099099,      0.1001,      0.1011,      0.1021,      0.1031,      0.1041,     0.10511,     0.10611,     0.10711,     0.10811,     0.10911,     0.11011,     0.11111,     0.11211,     0.11311,     0.11411,     0.11512,     0.11612,     0.11712,     0.11812,     0.11912,\n",
       "           0.12012,     0.12112,     0.12212,     0.12312,     0.12412,     0.12513,     0.12613,     0.12713,     0.12813,     0.12913,     0.13013,     0.13113,     0.13213,     0.13313,     0.13413,     0.13514,     0.13614,     0.13714,     0.13814,     0.13914,     0.14014,     0.14114,     0.14214,     0.14314,\n",
       "           0.14414,     0.14515,     0.14615,     0.14715,     0.14815,     0.14915,     0.15015,     0.15115,     0.15215,     0.15315,     0.15415,     0.15516,     0.15616,     0.15716,     0.15816,     0.15916,     0.16016,     0.16116,     0.16216,     0.16316,     0.16416,     0.16517,     0.16617,     0.16717,\n",
       "           0.16817,     0.16917,     0.17017,     0.17117,     0.17217,     0.17317,     0.17417,     0.17518,     0.17618,     0.17718,     0.17818,     0.17918,     0.18018,     0.18118,     0.18218,     0.18318,     0.18418,     0.18519,     0.18619,     0.18719,     0.18819,     0.18919,     0.19019,     0.19119,\n",
       "           0.19219,     0.19319,     0.19419,      0.1952,      0.1962,      0.1972,      0.1982,      0.1992,      0.2002,      0.2012,      0.2022,      0.2032,      0.2042,     0.20521,     0.20621,     0.20721,     0.20821,     0.20921,     0.21021,     0.21121,     0.21221,     0.21321,     0.21421,     0.21522,\n",
       "           0.21622,     0.21722,     0.21822,     0.21922,     0.22022,     0.22122,     0.22222,     0.22322,     0.22422,     0.22523,     0.22623,     0.22723,     0.22823,     0.22923,     0.23023,     0.23123,     0.23223,     0.23323,     0.23423,     0.23524,     0.23624,     0.23724,     0.23824,     0.23924,\n",
       "           0.24024,     0.24124,     0.24224,     0.24324,     0.24424,     0.24525,     0.24625,     0.24725,     0.24825,     0.24925,     0.25025,     0.25125,     0.25225,     0.25325,     0.25425,     0.25526,     0.25626,     0.25726,     0.25826,     0.25926,     0.26026,     0.26126,     0.26226,     0.26326,\n",
       "           0.26426,     0.26527,     0.26627,     0.26727,     0.26827,     0.26927,     0.27027,     0.27127,     0.27227,     0.27327,     0.27427,     0.27528,     0.27628,     0.27728,     0.27828,     0.27928,     0.28028,     0.28128,     0.28228,     0.28328,     0.28428,     0.28529,     0.28629,     0.28729,\n",
       "           0.28829,     0.28929,     0.29029,     0.29129,     0.29229,     0.29329,     0.29429,      0.2953,      0.2963,      0.2973,      0.2983,      0.2993,      0.3003,      0.3013,      0.3023,      0.3033,      0.3043,     0.30531,     0.30631,     0.30731,     0.30831,     0.30931,     0.31031,     0.31131,\n",
       "           0.31231,     0.31331,     0.31431,     0.31532,     0.31632,     0.31732,     0.31832,     0.31932,     0.32032,     0.32132,     0.32232,     0.32332,     0.32432,     0.32533,     0.32633,     0.32733,     0.32833,     0.32933,     0.33033,     0.33133,     0.33233,     0.33333,     0.33433,     0.33534,\n",
       "           0.33634,     0.33734,     0.33834,     0.33934,     0.34034,     0.34134,     0.34234,     0.34334,     0.34434,     0.34535,     0.34635,     0.34735,     0.34835,     0.34935,     0.35035,     0.35135,     0.35235,     0.35335,     0.35435,     0.35536,     0.35636,     0.35736,     0.35836,     0.35936,\n",
       "           0.36036,     0.36136,     0.36236,     0.36336,     0.36436,     0.36537,     0.36637,     0.36737,     0.36837,     0.36937,     0.37037,     0.37137,     0.37237,     0.37337,     0.37437,     0.37538,     0.37638,     0.37738,     0.37838,     0.37938,     0.38038,     0.38138,     0.38238,     0.38338,\n",
       "           0.38438,     0.38539,     0.38639,     0.38739,     0.38839,     0.38939,     0.39039,     0.39139,     0.39239,     0.39339,     0.39439,      0.3954,      0.3964,      0.3974,      0.3984,      0.3994,      0.4004,      0.4014,      0.4024,      0.4034,      0.4044,     0.40541,     0.40641,     0.40741,\n",
       "           0.40841,     0.40941,     0.41041,     0.41141,     0.41241,     0.41341,     0.41441,     0.41542,     0.41642,     0.41742,     0.41842,     0.41942,     0.42042,     0.42142,     0.42242,     0.42342,     0.42442,     0.42543,     0.42643,     0.42743,     0.42843,     0.42943,     0.43043,     0.43143,\n",
       "           0.43243,     0.43343,     0.43443,     0.43544,     0.43644,     0.43744,     0.43844,     0.43944,     0.44044,     0.44144,     0.44244,     0.44344,     0.44444,     0.44545,     0.44645,     0.44745,     0.44845,     0.44945,     0.45045,     0.45145,     0.45245,     0.45345,     0.45445,     0.45546,\n",
       "           0.45646,     0.45746,     0.45846,     0.45946,     0.46046,     0.46146,     0.46246,     0.46346,     0.46446,     0.46547,     0.46647,     0.46747,     0.46847,     0.46947,     0.47047,     0.47147,     0.47247,     0.47347,     0.47447,     0.47548,     0.47648,     0.47748,     0.47848,     0.47948,\n",
       "           0.48048,     0.48148,     0.48248,     0.48348,     0.48448,     0.48549,     0.48649,     0.48749,     0.48849,     0.48949,     0.49049,     0.49149,     0.49249,     0.49349,     0.49449,      0.4955,      0.4965,      0.4975,      0.4985,      0.4995,      0.5005,      0.5015,      0.5025,      0.5035,\n",
       "            0.5045,     0.50551,     0.50651,     0.50751,     0.50851,     0.50951,     0.51051,     0.51151,     0.51251,     0.51351,     0.51451,     0.51552,     0.51652,     0.51752,     0.51852,     0.51952,     0.52052,     0.52152,     0.52252,     0.52352,     0.52452,     0.52553,     0.52653,     0.52753,\n",
       "           0.52853,     0.52953,     0.53053,     0.53153,     0.53253,     0.53353,     0.53453,     0.53554,     0.53654,     0.53754,     0.53854,     0.53954,     0.54054,     0.54154,     0.54254,     0.54354,     0.54454,     0.54555,     0.54655,     0.54755,     0.54855,     0.54955,     0.55055,     0.55155,\n",
       "           0.55255,     0.55355,     0.55455,     0.55556,     0.55656,     0.55756,     0.55856,     0.55956,     0.56056,     0.56156,     0.56256,     0.56356,     0.56456,     0.56557,     0.56657,     0.56757,     0.56857,     0.56957,     0.57057,     0.57157,     0.57257,     0.57357,     0.57457,     0.57558,\n",
       "           0.57658,     0.57758,     0.57858,     0.57958,     0.58058,     0.58158,     0.58258,     0.58358,     0.58458,     0.58559,     0.58659,     0.58759,     0.58859,     0.58959,     0.59059,     0.59159,     0.59259,     0.59359,     0.59459,      0.5956,      0.5966,      0.5976,      0.5986,      0.5996,\n",
       "            0.6006,      0.6016,      0.6026,      0.6036,      0.6046,     0.60561,     0.60661,     0.60761,     0.60861,     0.60961,     0.61061,     0.61161,     0.61261,     0.61361,     0.61461,     0.61562,     0.61662,     0.61762,     0.61862,     0.61962,     0.62062,     0.62162,     0.62262,     0.62362,\n",
       "           0.62462,     0.62563,     0.62663,     0.62763,     0.62863,     0.62963,     0.63063,     0.63163,     0.63263,     0.63363,     0.63463,     0.63564,     0.63664,     0.63764,     0.63864,     0.63964,     0.64064,     0.64164,     0.64264,     0.64364,     0.64464,     0.64565,     0.64665,     0.64765,\n",
       "           0.64865,     0.64965,     0.65065,     0.65165,     0.65265,     0.65365,     0.65465,     0.65566,     0.65666,     0.65766,     0.65866,     0.65966,     0.66066,     0.66166,     0.66266,     0.66366,     0.66466,     0.66567,     0.66667,     0.66767,     0.66867,     0.66967,     0.67067,     0.67167,\n",
       "           0.67267,     0.67367,     0.67467,     0.67568,     0.67668,     0.67768,     0.67868,     0.67968,     0.68068,     0.68168,     0.68268,     0.68368,     0.68468,     0.68569,     0.68669,     0.68769,     0.68869,     0.68969,     0.69069,     0.69169,     0.69269,     0.69369,     0.69469,      0.6957,\n",
       "            0.6967,      0.6977,      0.6987,      0.6997,      0.7007,      0.7017,      0.7027,      0.7037,      0.7047,     0.70571,     0.70671,     0.70771,     0.70871,     0.70971,     0.71071,     0.71171,     0.71271,     0.71371,     0.71471,     0.71572,     0.71672,     0.71772,     0.71872,     0.71972,\n",
       "           0.72072,     0.72172,     0.72272,     0.72372,     0.72472,     0.72573,     0.72673,     0.72773,     0.72873,     0.72973,     0.73073,     0.73173,     0.73273,     0.73373,     0.73473,     0.73574,     0.73674,     0.73774,     0.73874,     0.73974,     0.74074,     0.74174,     0.74274,     0.74374,\n",
       "           0.74474,     0.74575,     0.74675,     0.74775,     0.74875,     0.74975,     0.75075,     0.75175,     0.75275,     0.75375,     0.75475,     0.75576,     0.75676,     0.75776,     0.75876,     0.75976,     0.76076,     0.76176,     0.76276,     0.76376,     0.76476,     0.76577,     0.76677,     0.76777,\n",
       "           0.76877,     0.76977,     0.77077,     0.77177,     0.77277,     0.77377,     0.77477,     0.77578,     0.77678,     0.77778,     0.77878,     0.77978,     0.78078,     0.78178,     0.78278,     0.78378,     0.78478,     0.78579,     0.78679,     0.78779,     0.78879,     0.78979,     0.79079,     0.79179,\n",
       "           0.79279,     0.79379,     0.79479,      0.7958,      0.7968,      0.7978,      0.7988,      0.7998,      0.8008,      0.8018,      0.8028,      0.8038,      0.8048,     0.80581,     0.80681,     0.80781,     0.80881,     0.80981,     0.81081,     0.81181,     0.81281,     0.81381,     0.81481,     0.81582,\n",
       "           0.81682,     0.81782,     0.81882,     0.81982,     0.82082,     0.82182,     0.82282,     0.82382,     0.82482,     0.82583,     0.82683,     0.82783,     0.82883,     0.82983,     0.83083,     0.83183,     0.83283,     0.83383,     0.83483,     0.83584,     0.83684,     0.83784,     0.83884,     0.83984,\n",
       "           0.84084,     0.84184,     0.84284,     0.84384,     0.84484,     0.84585,     0.84685,     0.84785,     0.84885,     0.84985,     0.85085,     0.85185,     0.85285,     0.85385,     0.85485,     0.85586,     0.85686,     0.85786,     0.85886,     0.85986,     0.86086,     0.86186,     0.86286,     0.86386,\n",
       "           0.86486,     0.86587,     0.86687,     0.86787,     0.86887,     0.86987,     0.87087,     0.87187,     0.87287,     0.87387,     0.87487,     0.87588,     0.87688,     0.87788,     0.87888,     0.87988,     0.88088,     0.88188,     0.88288,     0.88388,     0.88488,     0.88589,     0.88689,     0.88789,\n",
       "           0.88889,     0.88989,     0.89089,     0.89189,     0.89289,     0.89389,     0.89489,      0.8959,      0.8969,      0.8979,      0.8989,      0.8999,      0.9009,      0.9019,      0.9029,      0.9039,      0.9049,     0.90591,     0.90691,     0.90791,     0.90891,     0.90991,     0.91091,     0.91191,\n",
       "           0.91291,     0.91391,     0.91491,     0.91592,     0.91692,     0.91792,     0.91892,     0.91992,     0.92092,     0.92192,     0.92292,     0.92392,     0.92492,     0.92593,     0.92693,     0.92793,     0.92893,     0.92993,     0.93093,     0.93193,     0.93293,     0.93393,     0.93493,     0.93594,\n",
       "           0.93694,     0.93794,     0.93894,     0.93994,     0.94094,     0.94194,     0.94294,     0.94394,     0.94494,     0.94595,     0.94695,     0.94795,     0.94895,     0.94995,     0.95095,     0.95195,     0.95295,     0.95395,     0.95495,     0.95596,     0.95696,     0.95796,     0.95896,     0.95996,\n",
       "           0.96096,     0.96196,     0.96296,     0.96396,     0.96496,     0.96597,     0.96697,     0.96797,     0.96897,     0.96997,     0.97097,     0.97197,     0.97297,     0.97397,     0.97497,     0.97598,     0.97698,     0.97798,     0.97898,     0.97998,     0.98098,     0.98198,     0.98298,     0.98398,\n",
       "           0.98498,     0.98599,     0.98699,     0.98799,     0.98899,     0.98999,     0.99099,     0.99199,     0.99299,     0.99399,     0.99499,       0.996,       0.997,       0.998,       0.999,           1]), array([[   0.076603,    0.076603,      0.1181,     0.15067,     0.17569,     0.19746,     0.21719,     0.23344,     0.24993,     0.26394,     0.27955,     0.29184,      0.3031,     0.31411,     0.32631,     0.33778,     0.34629,     0.35633,     0.36472,     0.37153,     0.37965,     0.38552,     0.39311,\n",
       "            0.40095,     0.40897,     0.41417,     0.42152,     0.42761,     0.43397,     0.44136,     0.44618,     0.45232,     0.45777,     0.46473,     0.46937,     0.47538,     0.47931,      0.4845,     0.48967,     0.49301,     0.49782,     0.50329,     0.50778,     0.51304,     0.51635,     0.51983,\n",
       "            0.52439,     0.52807,     0.53219,     0.53591,     0.53932,     0.54327,     0.54687,     0.55001,     0.55223,     0.55518,     0.56077,     0.56294,     0.56598,     0.56953,     0.57232,     0.57696,      0.5818,     0.58491,     0.58749,     0.59122,     0.59495,     0.59905,     0.60104,\n",
       "            0.60419,      0.6066,     0.60905,     0.61121,     0.61492,     0.61786,     0.61951,     0.62332,     0.62656,     0.62903,     0.63032,     0.63266,     0.63481,     0.63876,     0.64003,     0.64179,     0.64377,     0.64744,      0.6502,     0.65277,     0.65624,     0.65869,     0.66161,\n",
       "            0.66452,     0.66693,     0.67052,     0.67257,     0.67493,     0.67687,     0.67852,     0.68032,     0.68195,     0.68395,     0.68654,     0.68963,     0.69066,     0.69249,     0.69349,     0.69572,     0.69769,     0.69889,     0.70136,     0.70292,     0.70437,     0.70685,     0.70994,\n",
       "            0.71139,     0.71346,      0.7152,     0.71624,     0.71722,     0.71903,      0.7196,     0.72028,     0.72088,     0.72178,      0.7234,     0.72637,     0.72864,     0.73024,     0.73251,     0.73404,     0.73392,     0.73611,     0.73697,     0.73777,      0.7393,     0.74015,     0.74188,\n",
       "            0.74275,     0.74388,      0.7454,     0.74592,     0.74742,     0.74735,     0.74846,     0.75166,      0.7534,     0.75388,     0.75532,     0.75609,     0.75727,     0.75773,     0.75877,      0.7606,     0.76097,     0.76151,     0.76225,     0.76333,     0.76406,     0.76463,      0.7651,\n",
       "            0.76595,     0.76835,     0.77029,     0.77189,      0.7751,     0.77629,     0.77726,     0.77796,     0.77929,     0.78074,     0.78206,     0.78311,     0.78548,     0.78711,     0.78758,     0.78817,     0.79108,     0.79258,     0.79337,      0.7943,     0.79457,     0.79583,     0.79577,\n",
       "            0.79747,     0.79803,     0.79893,     0.79914,      0.8001,     0.80096,     0.80113,     0.80112,     0.80199,     0.80235,     0.80272,      0.8034,     0.80413,     0.80559,     0.80588,     0.80615,     0.80644,     0.80738,     0.80775,     0.80921,     0.80958,     0.81072,     0.81185,\n",
       "            0.81259,     0.81322,     0.81357,     0.81406,     0.81488,     0.81482,     0.81513,     0.81601,     0.81618,     0.81635,     0.81777,     0.81882,     0.81917,     0.82031,     0.82146,     0.82224,     0.82231,      0.8232,     0.82333,     0.82329,     0.82389,     0.82504,     0.82639,\n",
       "            0.82662,     0.82674,     0.82681,     0.82706,     0.82703,     0.82701,     0.82698,     0.82764,     0.82797,     0.82946,     0.82986,     0.83015,     0.83037,     0.83122,     0.83141,     0.83176,     0.83194,     0.83287,      0.8333,     0.83375,     0.83396,      0.8343,     0.83497,\n",
       "            0.83537,     0.83582,     0.83649,     0.83815,     0.83873,     0.84057,     0.84092,     0.84134,     0.84205,     0.84232,     0.84245,     0.84364,     0.84523,     0.84592,      0.8473,     0.84751,     0.84875,     0.84904,     0.84979,     0.85041,     0.85057,     0.85171,     0.85284,\n",
       "            0.85354,     0.85427,     0.85425,     0.85422,     0.85455,     0.85495,     0.85627,     0.85642,     0.85703,     0.85745,     0.85773,     0.85779,      0.8581,     0.85868,     0.85865,     0.85882,     0.85918,     0.85939,     0.85949,     0.85961,     0.86075,     0.86091,     0.86141,\n",
       "            0.86156,     0.86168,     0.86181,     0.86194,     0.86195,     0.86193,     0.86191,      0.8619,     0.86188,     0.86345,     0.86382,     0.86379,     0.86376,      0.8653,     0.86571,     0.86574,     0.86628,      0.8669,     0.86701,     0.86751,     0.86803,     0.86818,     0.86882,\n",
       "            0.86948,     0.87009,     0.86999,     0.87002,     0.87069,      0.8712,     0.87178,     0.87207,     0.87203,     0.87327,     0.87389,     0.87446,     0.87568,     0.87645,     0.87658,      0.8767,     0.87683,     0.87686,     0.87765,     0.87787,     0.87829,     0.87827,     0.87892,\n",
       "            0.87925,     0.87944,     0.87962,      0.8798,     0.88064,     0.88097,     0.88118,     0.88139,     0.88172,     0.88263,     0.88254,     0.88287,     0.88302,     0.88285,     0.88389,     0.88432,     0.88422,     0.88435,     0.88528,     0.88535,     0.88555,     0.88574,     0.88633,\n",
       "            0.88628,     0.88625,     0.88621,     0.88632,     0.88691,     0.88727,     0.88758,     0.88844,     0.88866,     0.88888,     0.88944,     0.89062,     0.89238,     0.89303,     0.89333,     0.89351,     0.89367,     0.89535,     0.89569,     0.89601,     0.89631,     0.89695,     0.89664,\n",
       "            0.89685,     0.89705,     0.89787,     0.89894,      0.8989,     0.89971,     0.90026,     0.90058,     0.90055,     0.90094,     0.90108,      0.9013,     0.90161,     0.90218,     0.90223,      0.9022,      0.9024,     0.90262,     0.90294,     0.90355,     0.90398,     0.90453,      0.9045,\n",
       "            0.90438,     0.90431,     0.90478,     0.90472,     0.90465,     0.90508,     0.90625,     0.90681,     0.90744,     0.90822,     0.90873,     0.90927,     0.90979,     0.90992,     0.91004,     0.91017,      0.9103,     0.91038,     0.91035,     0.91032,     0.91028,     0.91035,     0.91058,\n",
       "            0.91081,     0.91072,     0.91172,     0.91186,     0.91183,     0.91178,     0.91171,     0.91224,     0.91351,     0.91541,     0.91541,     0.91598,      0.9166,     0.91782,     0.91804,     0.91825,     0.91845,     0.91842,     0.91838,     0.91836,     0.91831,     0.91846,     0.91896,\n",
       "            0.91929,     0.92005,     0.92039,     0.92169,     0.92186,     0.92182,      0.9218,     0.92218,     0.92236,     0.92235,     0.92233,     0.92231,      0.9223,     0.92229,     0.92228,     0.92227,     0.92286,     0.92286,     0.92413,      0.9241,     0.92402,       0.924,     0.92389,\n",
       "            0.92384,     0.92382,     0.92381,     0.92379,     0.92447,     0.92463,      0.9248,     0.92497,     0.92528,     0.92595,     0.92638,     0.92658,     0.92698,     0.92717,     0.92748,     0.92743,       0.928,     0.92799,     0.92797,     0.92793,     0.92788,     0.92785,     0.92784,\n",
       "            0.92783,     0.92782,     0.92781,     0.92775,     0.92774,     0.92773,     0.92771,      0.9277,      0.9277,     0.92769,     0.92768,     0.92767,     0.92767,     0.92766,      0.9276,     0.92783,     0.92806,     0.92826,     0.92824,     0.92823,     0.92832,     0.92882,     0.92881,\n",
       "            0.92879,     0.92876,     0.92959,     0.93095,      0.9313,     0.93127,     0.93215,     0.93385,     0.93392,     0.93415,     0.93438,     0.93449,     0.93447,     0.93446,     0.93442,     0.93437,     0.93474,      0.9363,     0.93629,     0.93628,     0.93627,     0.93691,     0.93687,\n",
       "            0.93677,     0.93668,     0.93658,     0.93684,     0.93719,     0.93711,     0.93741,     0.93795,      0.9383,     0.93901,     0.93893,     0.93891,     0.93887,     0.93882,     0.93875,     0.93874,     0.93873,     0.93872,     0.93868,     0.93863,     0.93891,     0.93927,     0.94001,\n",
       "            0.93999,      0.9399,     0.93985,     0.93976,     0.94011,     0.94047,     0.94037,      0.9414,     0.94204,     0.94232,      0.9423,     0.94226,     0.94224,     0.94224,     0.94223,     0.94222,     0.94221,     0.94221,     0.94281,     0.94284,      0.9428,     0.94272,     0.94298,\n",
       "            0.94332,     0.94365,     0.94474,     0.94472,     0.94471,     0.94463,     0.94455,     0.94476,     0.94514,     0.94529,     0.94566,     0.94603,     0.94641,     0.94666,     0.94667,     0.94704,     0.94801,     0.94827,     0.94933,     0.95088,     0.95086,     0.95159,     0.95152,\n",
       "            0.95151,      0.9515,     0.95149,     0.95219,     0.95217,     0.95288,     0.95338,     0.95355,     0.95352,     0.95405,     0.95419,     0.95417,     0.95441,     0.95565,     0.95564,     0.95561,     0.95552,     0.95549,     0.95624,      0.9562,     0.95619,      0.9569,     0.95689,\n",
       "            0.95687,     0.95685,     0.95734,      0.9581,     0.95828,     0.95816,     0.95809,     0.95799,     0.95813,     0.95866,     0.95864,     0.95854,     0.95851,     0.95922,     0.95948,     0.95982,     0.95976,     0.95974,     0.96123,     0.96141,     0.96159,     0.96178,     0.96196,\n",
       "            0.96199,      0.9619,     0.96222,     0.96329,     0.96351,     0.96398,     0.96451,     0.96469,     0.96468,     0.96465,     0.96455,     0.96454,     0.96445,     0.96429,     0.96422,     0.96421,      0.9642,     0.96412,     0.96411,     0.96444,     0.96489,     0.96488,     0.96482,\n",
       "            0.96475,      0.9647,     0.96469,     0.96467,     0.96545,     0.96543,     0.96532,     0.96531,     0.96613,     0.96607,     0.96597,     0.96597,     0.96669,     0.96717,     0.96744,     0.96897,     0.96894,     0.96977,     0.96976,     0.96973,     0.96964,     0.96963,     0.96975,\n",
       "            0.97034,     0.97033,     0.97021,     0.97017,     0.97014,     0.97011,     0.97009,     0.96991,     0.96981,     0.96979,     0.96974,     0.96971,     0.96961,     0.96958,     0.96951,     0.96943,     0.96938,     0.97023,     0.97021,     0.97017,     0.97015,     0.97008,     0.97007,\n",
       "            0.96997,     0.97177,     0.97175,     0.97165,     0.97158,     0.97157,     0.97152,     0.97149,     0.97143,     0.97232,     0.97223,     0.97206,     0.97204,     0.97193,     0.97184,      0.9718,     0.97173,     0.97171,     0.97166,     0.97158,      0.9725,     0.97244,     0.97333,\n",
       "            0.97324,     0.97321,     0.97315,      0.9735,       0.975,     0.97492,     0.97491,     0.97486,     0.97479,     0.97474,     0.97568,     0.97556,     0.97554,     0.97533,     0.97654,     0.97717,     0.97714,     0.97701,     0.97794,     0.97792,     0.97789,     0.97881,     0.98082,\n",
       "            0.98068,     0.98061,     0.98049,     0.98042,     0.98032,     0.98029,     0.98021,     0.98018,     0.98012,     0.98097,     0.98114,     0.98111,      0.9811,     0.98109,     0.98105,     0.98097,      0.9809,     0.98078,     0.98066,     0.98054,     0.98131,     0.98156,     0.98143,\n",
       "            0.98135,     0.98126,     0.98123,     0.98114,      0.9811,     0.98105,     0.98088,     0.98085,      0.9808,     0.98078,     0.98061,     0.98052,     0.98031,     0.98025,     0.98007,     0.97985,     0.98101,     0.98083,      0.9808,      0.9806,     0.98047,     0.98036,     0.98031,\n",
       "            0.98025,     0.98015,     0.98127,     0.98114,     0.98106,     0.98096,     0.98083,     0.98067,     0.98051,     0.98173,     0.98164,     0.98151,     0.98135,     0.98121,      0.9811,     0.98093,     0.98079,     0.98065,     0.98063,      0.9805,     0.98035,     0.98086,     0.98301,\n",
       "            0.98285,     0.98269,     0.98254,     0.98246,     0.98362,     0.98382,     0.98374,     0.98363,     0.98505,      0.9848,     0.98629,     0.98616,     0.98767,     0.98756,     0.98743,     0.98737,     0.98719,     0.98691,     0.98673,      0.9866,     0.98644,      0.9864,     0.98634,\n",
       "            0.98614,     0.98764,     0.98793,     0.98787,     0.98773,     0.98958,     0.98936,      0.9892,     0.98913,     0.98891,     0.98858,     0.98844,     0.98814,       0.988,     0.99019,     0.99001,     0.98972,     0.98951,      0.9894,     0.98916,     0.98905,     0.99434,     0.99424,\n",
       "            0.99394,     0.99387,     0.99377,     0.99356,     0.99333,     0.99312,     0.99283,     0.99267,     0.99609,     0.99598,     0.99579,     0.99568,     0.99557,     0.99542,      0.9952,     0.99508,     0.99488,     0.99469,     0.99445,     0.99426,     0.99402,           1,           1,\n",
       "                  1,           1,           1,           1,           1,           1,           1,           1,           1,           1,           1,           1,           1,           1,           1,           1,           1,           1,           1,           1,           1,           1,           1,\n",
       "                  1,           1,           1,           1,           1,           1,           1,           1,           1,           1,           1,           1,           1,           1,           1,           1,           1,           1,           1,           1,           1,           1,           1,\n",
       "                  1,           1,           1,           1,           1,           1,           1,           1,           1,           1,           1,           1,           1,           1,           1,           1,           1,           1,           1,           1,           1,           1,           1,\n",
       "                  1,           1,           1,           1,           1,           1,           1,           1,           1,           1,           1]]), 'Confidence', 'Precision'], [array([          0,    0.001001,    0.002002,    0.003003,    0.004004,    0.005005,    0.006006,    0.007007,    0.008008,    0.009009,     0.01001,    0.011011,    0.012012,    0.013013,    0.014014,    0.015015,    0.016016,    0.017017,    0.018018,    0.019019,     0.02002,    0.021021,    0.022022,    0.023023,\n",
       "          0.024024,    0.025025,    0.026026,    0.027027,    0.028028,    0.029029,     0.03003,    0.031031,    0.032032,    0.033033,    0.034034,    0.035035,    0.036036,    0.037037,    0.038038,    0.039039,     0.04004,    0.041041,    0.042042,    0.043043,    0.044044,    0.045045,    0.046046,    0.047047,\n",
       "          0.048048,    0.049049,     0.05005,    0.051051,    0.052052,    0.053053,    0.054054,    0.055055,    0.056056,    0.057057,    0.058058,    0.059059,     0.06006,    0.061061,    0.062062,    0.063063,    0.064064,    0.065065,    0.066066,    0.067067,    0.068068,    0.069069,     0.07007,    0.071071,\n",
       "          0.072072,    0.073073,    0.074074,    0.075075,    0.076076,    0.077077,    0.078078,    0.079079,     0.08008,    0.081081,    0.082082,    0.083083,    0.084084,    0.085085,    0.086086,    0.087087,    0.088088,    0.089089,     0.09009,    0.091091,    0.092092,    0.093093,    0.094094,    0.095095,\n",
       "          0.096096,    0.097097,    0.098098,    0.099099,      0.1001,      0.1011,      0.1021,      0.1031,      0.1041,     0.10511,     0.10611,     0.10711,     0.10811,     0.10911,     0.11011,     0.11111,     0.11211,     0.11311,     0.11411,     0.11512,     0.11612,     0.11712,     0.11812,     0.11912,\n",
       "           0.12012,     0.12112,     0.12212,     0.12312,     0.12412,     0.12513,     0.12613,     0.12713,     0.12813,     0.12913,     0.13013,     0.13113,     0.13213,     0.13313,     0.13413,     0.13514,     0.13614,     0.13714,     0.13814,     0.13914,     0.14014,     0.14114,     0.14214,     0.14314,\n",
       "           0.14414,     0.14515,     0.14615,     0.14715,     0.14815,     0.14915,     0.15015,     0.15115,     0.15215,     0.15315,     0.15415,     0.15516,     0.15616,     0.15716,     0.15816,     0.15916,     0.16016,     0.16116,     0.16216,     0.16316,     0.16416,     0.16517,     0.16617,     0.16717,\n",
       "           0.16817,     0.16917,     0.17017,     0.17117,     0.17217,     0.17317,     0.17417,     0.17518,     0.17618,     0.17718,     0.17818,     0.17918,     0.18018,     0.18118,     0.18218,     0.18318,     0.18418,     0.18519,     0.18619,     0.18719,     0.18819,     0.18919,     0.19019,     0.19119,\n",
       "           0.19219,     0.19319,     0.19419,      0.1952,      0.1962,      0.1972,      0.1982,      0.1992,      0.2002,      0.2012,      0.2022,      0.2032,      0.2042,     0.20521,     0.20621,     0.20721,     0.20821,     0.20921,     0.21021,     0.21121,     0.21221,     0.21321,     0.21421,     0.21522,\n",
       "           0.21622,     0.21722,     0.21822,     0.21922,     0.22022,     0.22122,     0.22222,     0.22322,     0.22422,     0.22523,     0.22623,     0.22723,     0.22823,     0.22923,     0.23023,     0.23123,     0.23223,     0.23323,     0.23423,     0.23524,     0.23624,     0.23724,     0.23824,     0.23924,\n",
       "           0.24024,     0.24124,     0.24224,     0.24324,     0.24424,     0.24525,     0.24625,     0.24725,     0.24825,     0.24925,     0.25025,     0.25125,     0.25225,     0.25325,     0.25425,     0.25526,     0.25626,     0.25726,     0.25826,     0.25926,     0.26026,     0.26126,     0.26226,     0.26326,\n",
       "           0.26426,     0.26527,     0.26627,     0.26727,     0.26827,     0.26927,     0.27027,     0.27127,     0.27227,     0.27327,     0.27427,     0.27528,     0.27628,     0.27728,     0.27828,     0.27928,     0.28028,     0.28128,     0.28228,     0.28328,     0.28428,     0.28529,     0.28629,     0.28729,\n",
       "           0.28829,     0.28929,     0.29029,     0.29129,     0.29229,     0.29329,     0.29429,      0.2953,      0.2963,      0.2973,      0.2983,      0.2993,      0.3003,      0.3013,      0.3023,      0.3033,      0.3043,     0.30531,     0.30631,     0.30731,     0.30831,     0.30931,     0.31031,     0.31131,\n",
       "           0.31231,     0.31331,     0.31431,     0.31532,     0.31632,     0.31732,     0.31832,     0.31932,     0.32032,     0.32132,     0.32232,     0.32332,     0.32432,     0.32533,     0.32633,     0.32733,     0.32833,     0.32933,     0.33033,     0.33133,     0.33233,     0.33333,     0.33433,     0.33534,\n",
       "           0.33634,     0.33734,     0.33834,     0.33934,     0.34034,     0.34134,     0.34234,     0.34334,     0.34434,     0.34535,     0.34635,     0.34735,     0.34835,     0.34935,     0.35035,     0.35135,     0.35235,     0.35335,     0.35435,     0.35536,     0.35636,     0.35736,     0.35836,     0.35936,\n",
       "           0.36036,     0.36136,     0.36236,     0.36336,     0.36436,     0.36537,     0.36637,     0.36737,     0.36837,     0.36937,     0.37037,     0.37137,     0.37237,     0.37337,     0.37437,     0.37538,     0.37638,     0.37738,     0.37838,     0.37938,     0.38038,     0.38138,     0.38238,     0.38338,\n",
       "           0.38438,     0.38539,     0.38639,     0.38739,     0.38839,     0.38939,     0.39039,     0.39139,     0.39239,     0.39339,     0.39439,      0.3954,      0.3964,      0.3974,      0.3984,      0.3994,      0.4004,      0.4014,      0.4024,      0.4034,      0.4044,     0.40541,     0.40641,     0.40741,\n",
       "           0.40841,     0.40941,     0.41041,     0.41141,     0.41241,     0.41341,     0.41441,     0.41542,     0.41642,     0.41742,     0.41842,     0.41942,     0.42042,     0.42142,     0.42242,     0.42342,     0.42442,     0.42543,     0.42643,     0.42743,     0.42843,     0.42943,     0.43043,     0.43143,\n",
       "           0.43243,     0.43343,     0.43443,     0.43544,     0.43644,     0.43744,     0.43844,     0.43944,     0.44044,     0.44144,     0.44244,     0.44344,     0.44444,     0.44545,     0.44645,     0.44745,     0.44845,     0.44945,     0.45045,     0.45145,     0.45245,     0.45345,     0.45445,     0.45546,\n",
       "           0.45646,     0.45746,     0.45846,     0.45946,     0.46046,     0.46146,     0.46246,     0.46346,     0.46446,     0.46547,     0.46647,     0.46747,     0.46847,     0.46947,     0.47047,     0.47147,     0.47247,     0.47347,     0.47447,     0.47548,     0.47648,     0.47748,     0.47848,     0.47948,\n",
       "           0.48048,     0.48148,     0.48248,     0.48348,     0.48448,     0.48549,     0.48649,     0.48749,     0.48849,     0.48949,     0.49049,     0.49149,     0.49249,     0.49349,     0.49449,      0.4955,      0.4965,      0.4975,      0.4985,      0.4995,      0.5005,      0.5015,      0.5025,      0.5035,\n",
       "            0.5045,     0.50551,     0.50651,     0.50751,     0.50851,     0.50951,     0.51051,     0.51151,     0.51251,     0.51351,     0.51451,     0.51552,     0.51652,     0.51752,     0.51852,     0.51952,     0.52052,     0.52152,     0.52252,     0.52352,     0.52452,     0.52553,     0.52653,     0.52753,\n",
       "           0.52853,     0.52953,     0.53053,     0.53153,     0.53253,     0.53353,     0.53453,     0.53554,     0.53654,     0.53754,     0.53854,     0.53954,     0.54054,     0.54154,     0.54254,     0.54354,     0.54454,     0.54555,     0.54655,     0.54755,     0.54855,     0.54955,     0.55055,     0.55155,\n",
       "           0.55255,     0.55355,     0.55455,     0.55556,     0.55656,     0.55756,     0.55856,     0.55956,     0.56056,     0.56156,     0.56256,     0.56356,     0.56456,     0.56557,     0.56657,     0.56757,     0.56857,     0.56957,     0.57057,     0.57157,     0.57257,     0.57357,     0.57457,     0.57558,\n",
       "           0.57658,     0.57758,     0.57858,     0.57958,     0.58058,     0.58158,     0.58258,     0.58358,     0.58458,     0.58559,     0.58659,     0.58759,     0.58859,     0.58959,     0.59059,     0.59159,     0.59259,     0.59359,     0.59459,      0.5956,      0.5966,      0.5976,      0.5986,      0.5996,\n",
       "            0.6006,      0.6016,      0.6026,      0.6036,      0.6046,     0.60561,     0.60661,     0.60761,     0.60861,     0.60961,     0.61061,     0.61161,     0.61261,     0.61361,     0.61461,     0.61562,     0.61662,     0.61762,     0.61862,     0.61962,     0.62062,     0.62162,     0.62262,     0.62362,\n",
       "           0.62462,     0.62563,     0.62663,     0.62763,     0.62863,     0.62963,     0.63063,     0.63163,     0.63263,     0.63363,     0.63463,     0.63564,     0.63664,     0.63764,     0.63864,     0.63964,     0.64064,     0.64164,     0.64264,     0.64364,     0.64464,     0.64565,     0.64665,     0.64765,\n",
       "           0.64865,     0.64965,     0.65065,     0.65165,     0.65265,     0.65365,     0.65465,     0.65566,     0.65666,     0.65766,     0.65866,     0.65966,     0.66066,     0.66166,     0.66266,     0.66366,     0.66466,     0.66567,     0.66667,     0.66767,     0.66867,     0.66967,     0.67067,     0.67167,\n",
       "           0.67267,     0.67367,     0.67467,     0.67568,     0.67668,     0.67768,     0.67868,     0.67968,     0.68068,     0.68168,     0.68268,     0.68368,     0.68468,     0.68569,     0.68669,     0.68769,     0.68869,     0.68969,     0.69069,     0.69169,     0.69269,     0.69369,     0.69469,      0.6957,\n",
       "            0.6967,      0.6977,      0.6987,      0.6997,      0.7007,      0.7017,      0.7027,      0.7037,      0.7047,     0.70571,     0.70671,     0.70771,     0.70871,     0.70971,     0.71071,     0.71171,     0.71271,     0.71371,     0.71471,     0.71572,     0.71672,     0.71772,     0.71872,     0.71972,\n",
       "           0.72072,     0.72172,     0.72272,     0.72372,     0.72472,     0.72573,     0.72673,     0.72773,     0.72873,     0.72973,     0.73073,     0.73173,     0.73273,     0.73373,     0.73473,     0.73574,     0.73674,     0.73774,     0.73874,     0.73974,     0.74074,     0.74174,     0.74274,     0.74374,\n",
       "           0.74474,     0.74575,     0.74675,     0.74775,     0.74875,     0.74975,     0.75075,     0.75175,     0.75275,     0.75375,     0.75475,     0.75576,     0.75676,     0.75776,     0.75876,     0.75976,     0.76076,     0.76176,     0.76276,     0.76376,     0.76476,     0.76577,     0.76677,     0.76777,\n",
       "           0.76877,     0.76977,     0.77077,     0.77177,     0.77277,     0.77377,     0.77477,     0.77578,     0.77678,     0.77778,     0.77878,     0.77978,     0.78078,     0.78178,     0.78278,     0.78378,     0.78478,     0.78579,     0.78679,     0.78779,     0.78879,     0.78979,     0.79079,     0.79179,\n",
       "           0.79279,     0.79379,     0.79479,      0.7958,      0.7968,      0.7978,      0.7988,      0.7998,      0.8008,      0.8018,      0.8028,      0.8038,      0.8048,     0.80581,     0.80681,     0.80781,     0.80881,     0.80981,     0.81081,     0.81181,     0.81281,     0.81381,     0.81481,     0.81582,\n",
       "           0.81682,     0.81782,     0.81882,     0.81982,     0.82082,     0.82182,     0.82282,     0.82382,     0.82482,     0.82583,     0.82683,     0.82783,     0.82883,     0.82983,     0.83083,     0.83183,     0.83283,     0.83383,     0.83483,     0.83584,     0.83684,     0.83784,     0.83884,     0.83984,\n",
       "           0.84084,     0.84184,     0.84284,     0.84384,     0.84484,     0.84585,     0.84685,     0.84785,     0.84885,     0.84985,     0.85085,     0.85185,     0.85285,     0.85385,     0.85485,     0.85586,     0.85686,     0.85786,     0.85886,     0.85986,     0.86086,     0.86186,     0.86286,     0.86386,\n",
       "           0.86486,     0.86587,     0.86687,     0.86787,     0.86887,     0.86987,     0.87087,     0.87187,     0.87287,     0.87387,     0.87487,     0.87588,     0.87688,     0.87788,     0.87888,     0.87988,     0.88088,     0.88188,     0.88288,     0.88388,     0.88488,     0.88589,     0.88689,     0.88789,\n",
       "           0.88889,     0.88989,     0.89089,     0.89189,     0.89289,     0.89389,     0.89489,      0.8959,      0.8969,      0.8979,      0.8989,      0.8999,      0.9009,      0.9019,      0.9029,      0.9039,      0.9049,     0.90591,     0.90691,     0.90791,     0.90891,     0.90991,     0.91091,     0.91191,\n",
       "           0.91291,     0.91391,     0.91491,     0.91592,     0.91692,     0.91792,     0.91892,     0.91992,     0.92092,     0.92192,     0.92292,     0.92392,     0.92492,     0.92593,     0.92693,     0.92793,     0.92893,     0.92993,     0.93093,     0.93193,     0.93293,     0.93393,     0.93493,     0.93594,\n",
       "           0.93694,     0.93794,     0.93894,     0.93994,     0.94094,     0.94194,     0.94294,     0.94394,     0.94494,     0.94595,     0.94695,     0.94795,     0.94895,     0.94995,     0.95095,     0.95195,     0.95295,     0.95395,     0.95495,     0.95596,     0.95696,     0.95796,     0.95896,     0.95996,\n",
       "           0.96096,     0.96196,     0.96296,     0.96396,     0.96496,     0.96597,     0.96697,     0.96797,     0.96897,     0.96997,     0.97097,     0.97197,     0.97297,     0.97397,     0.97497,     0.97598,     0.97698,     0.97798,     0.97898,     0.97998,     0.98098,     0.98198,     0.98298,     0.98398,\n",
       "           0.98498,     0.98599,     0.98699,     0.98799,     0.98899,     0.98999,     0.99099,     0.99199,     0.99299,     0.99399,     0.99499,       0.996,       0.997,       0.998,       0.999,           1]), array([[    0.84054,     0.84054,     0.83422,     0.82888,     0.82061,     0.81429,     0.81089,     0.80895,     0.80797,     0.80457,     0.80263,     0.80068,     0.79582,     0.79242,      0.7895,     0.78707,     0.78367,     0.78221,     0.78123,      0.7788,     0.77832,     0.77491,     0.77346,\n",
       "            0.77248,     0.77151,     0.77103,     0.77103,     0.77054,     0.76957,      0.7686,     0.76616,     0.76519,     0.76471,     0.76471,     0.76325,     0.76276,     0.76179,      0.7613,     0.75984,     0.75887,     0.75839,     0.75741,     0.75693,     0.75596,     0.75547,     0.75401,\n",
       "            0.75401,     0.75352,     0.75207,     0.75109,     0.75012,     0.75012,     0.75012,     0.74915,     0.74866,      0.7472,      0.7472,     0.74623,     0.74575,     0.74575,     0.74489,     0.74477,     0.74477,      0.7438,     0.74332,     0.74283,     0.74283,     0.74234,     0.74186,\n",
       "            0.74186,     0.74137,     0.74137,     0.74137,     0.74088,     0.74088,     0.73991,     0.73943,     0.73943,      0.7394,     0.73894,     0.73845,     0.73845,     0.73845,     0.73797,     0.73797,     0.73797,       0.737,     0.73651,     0.73602,     0.73602,     0.73554,     0.73554,\n",
       "            0.73554,     0.73554,     0.73554,     0.73495,     0.73456,     0.73408,     0.73359,     0.73359,     0.73311,     0.73311,     0.73311,     0.73213,     0.73165,     0.73165,     0.73145,     0.73068,     0.73068,     0.73068,     0.73068,      0.7297,     0.72825,     0.72825,     0.72776,\n",
       "            0.72776,     0.72727,     0.72727,     0.72727,     0.72727,     0.72654,     0.72533,     0.72484,     0.72387,      0.7229,     0.72241,     0.72138,     0.72095,     0.72095,     0.72095,     0.72095,     0.72007,     0.71998,     0.71998,     0.71998,     0.71998,     0.71998,     0.71949,\n",
       "            0.71949,     0.71804,     0.71804,     0.71804,     0.71804,     0.71757,     0.71755,     0.71658,     0.71658,     0.71609,     0.71561,     0.71415,     0.71415,     0.71415,     0.71366,     0.71358,     0.71317,     0.71317,      0.7122,     0.71172,     0.71172,     0.71172,     0.71172,\n",
       "            0.71172,     0.71172,     0.71172,     0.71172,     0.71172,     0.71172,      0.7108,     0.71074,     0.71074,     0.71074,     0.71074,     0.71074,     0.71074,     0.71074,     0.71074,     0.71074,     0.71074,     0.71026,     0.71026,      0.7096,     0.70887,     0.70871,     0.70843,\n",
       "            0.70831,     0.70734,     0.70699,     0.70685,     0.70685,     0.70637,     0.70588,     0.70498,     0.70442,     0.70442,     0.70442,     0.70442,     0.70442,     0.70442,     0.70436,     0.70356,     0.70345,     0.70297,     0.70297,     0.70297,     0.70297,     0.70297,     0.70297,\n",
       "            0.70248,     0.70248,      0.7022,     0.70199,     0.70189,     0.70165,     0.70151,     0.70053,     0.70053,     0.70053,     0.70053,     0.70053,     0.70053,     0.70053,     0.70012,     0.70005,     0.69967,     0.69941,     0.69778,     0.69713,     0.69665,     0.69665,     0.69616,\n",
       "            0.69616,     0.69594,     0.69519,     0.69516,     0.69502,     0.69488,     0.69475,     0.69324,     0.69324,     0.69324,     0.69324,     0.69324,     0.69324,     0.69324,     0.69285,     0.69219,     0.69178,     0.69178,     0.69178,     0.69178,     0.69178,     0.69178,     0.69178,\n",
       "            0.69178,     0.69178,     0.69178,     0.69178,      0.6913,     0.69081,     0.69081,     0.69081,     0.69081,     0.69078,     0.69033,     0.69033,     0.68984,     0.68984,     0.68984,     0.68984,     0.68935,     0.68902,     0.68887,     0.68818,     0.68741,     0.68741,     0.68692,\n",
       "            0.68692,     0.68682,     0.68667,     0.68651,     0.68644,     0.68644,      0.6864,     0.68595,     0.68595,     0.68595,     0.68585,     0.68546,     0.68546,     0.68532,     0.68512,     0.68498,     0.68449,     0.68449,     0.68394,     0.68352,     0.68352,     0.68308,     0.68303,\n",
       "            0.68303,     0.68303,     0.68303,     0.68303,     0.68295,     0.68285,     0.68275,     0.68265,     0.68255,     0.68245,     0.68153,     0.68133,     0.68113,      0.6806,     0.68006,     0.67914,     0.67866,     0.67866,     0.67822,     0.67817,      0.6779,     0.67769,     0.67769,\n",
       "            0.67769,     0.67728,     0.67666,     0.67623,     0.67623,     0.67623,     0.67623,     0.67602,     0.67574,     0.67574,     0.67574,     0.67526,     0.67526,     0.67526,     0.67526,     0.67526,     0.67526,     0.67502,     0.67477,     0.67442,     0.67357,     0.67282,     0.67282,\n",
       "            0.67282,     0.67282,     0.67282,     0.67282,     0.67282,     0.67282,     0.67282,     0.67282,     0.67282,     0.67265,     0.67209,     0.67185,     0.67152,     0.67043,     0.66991,     0.66893,     0.66831,     0.66796,     0.66775,     0.66748,     0.66748,     0.66748,     0.66748,\n",
       "            0.66682,     0.66664,     0.66638,     0.66602,     0.66602,      0.6658,     0.66553,     0.66505,     0.66505,     0.66505,     0.66505,     0.66505,     0.66505,     0.66505,     0.66505,     0.66488,     0.66456,     0.66456,     0.66456,     0.66456,     0.66456,     0.66436,     0.66213,\n",
       "            0.66213,     0.66213,     0.66213,     0.66161,     0.66133,     0.66116,     0.66067,     0.66056,     0.66031,     0.66018,      0.6598,      0.6597,      0.6597,      0.6597,     0.65948,     0.65923,     0.65921,     0.65921,     0.65921,     0.65921,     0.65907,     0.65865,      0.6584,\n",
       "            0.65752,     0.65696,     0.65597,     0.65548,     0.65498,     0.65484,     0.65435,     0.65386,     0.65386,     0.65386,     0.65289,     0.65283,     0.65192,     0.65192,     0.65192,     0.65192,     0.65192,     0.65185,      0.6516,     0.65135,      0.6511,     0.65095,     0.65095,\n",
       "            0.65095,     0.64963,       0.649,     0.64882,     0.64857,     0.64812,     0.64762,     0.64754,     0.64754,     0.64754,     0.64709,     0.64659,     0.64657,     0.64609,     0.64609,     0.64609,     0.64606,     0.64578,     0.64551,     0.64526,      0.6449,     0.64366,     0.64366,\n",
       "            0.64366,     0.64339,     0.64317,     0.64317,     0.64239,     0.64204,     0.64179,     0.64123,     0.64111,     0.64094,     0.64078,     0.64066,     0.64056,     0.64046,     0.64036,     0.64026,     0.64025,      0.6398,     0.63953,     0.63928,     0.63855,     0.63829,     0.63731,\n",
       "            0.63684,     0.63671,     0.63659,     0.63647,     0.63636,     0.63636,     0.63636,     0.63636,     0.63636,     0.63636,      0.6362,     0.63588,     0.63569,     0.63491,     0.63421,     0.63371,     0.63288,     0.63272,     0.63255,      0.6322,      0.6317,     0.63144,     0.63134,\n",
       "            0.63124,     0.63114,     0.63104,     0.63046,     0.63036,     0.63026,     0.63016,     0.63006,     0.62998,     0.62991,     0.62984,     0.62977,      0.6297,     0.62963,     0.62907,     0.62907,     0.62907,     0.62906,     0.62889,     0.62872,     0.62859,     0.62807,      0.6279,\n",
       "            0.62774,     0.62749,     0.62713,     0.62713,     0.62607,     0.62582,     0.62518,      0.6245,     0.62421,     0.62421,     0.62421,     0.62413,     0.62396,     0.62379,     0.62344,     0.62294,     0.62227,      0.6217,     0.62157,     0.62145,     0.62132,     0.62092,     0.62042,\n",
       "            0.61944,     0.61845,     0.61747,     0.61692,     0.61692,     0.61573,     0.61546,     0.61546,     0.61546,     0.61374,     0.61289,     0.61264,     0.61224,     0.61175,       0.611,     0.61088,     0.61075,     0.61063,     0.61023,     0.60973,     0.60963,     0.60963,     0.60942,\n",
       "            0.60917,     0.60821,     0.60771,     0.60673,     0.60671,      0.6067,      0.6057,     0.60476,     0.60379,     0.60364,     0.60339,     0.60298,     0.60276,     0.60268,      0.6026,     0.60251,     0.60243,     0.60235,     0.60233,     0.60143,     0.60093,     0.60009,     0.59942,\n",
       "             0.5987,     0.59844,     0.59836,     0.59819,     0.59803,     0.59719,      0.5962,     0.59601,     0.59601,     0.59553,     0.59553,     0.59553,     0.59553,     0.59539,     0.59407,     0.59407,     0.59389,     0.59358,     0.59358,     0.59287,     0.59262,     0.59261,     0.59154,\n",
       "            0.59144,     0.59134,     0.59124,     0.59063,      0.5903,     0.58986,     0.58969,     0.58886,     0.58836,     0.58775,     0.58736,       0.587,     0.58678,     0.58669,     0.58644,     0.58609,     0.58489,     0.58436,     0.58435,      0.5837,     0.58353,     0.58287,     0.58268,\n",
       "            0.58248,     0.58209,     0.58192,     0.58143,     0.58059,     0.57888,      0.5779,     0.57643,     0.57608,     0.57608,     0.57469,     0.57322,     0.57272,     0.57173,     0.57025,     0.56904,     0.56818,     0.56793,     0.56636,     0.56636,     0.56636,     0.56636,     0.56636,\n",
       "            0.56602,     0.56455,     0.56344,     0.56137,     0.56101,      0.5594,     0.55907,     0.55788,     0.55763,     0.55716,     0.55556,     0.55531,     0.55397,     0.55128,     0.55031,     0.55011,     0.54991,     0.54871,     0.54846,     0.54789,     0.54784,     0.54759,     0.54668,\n",
       "            0.54557,     0.54478,     0.54453,     0.54421,     0.54339,     0.54306,     0.54134,     0.54109,     0.54077,     0.53987,     0.53815,     0.53768,     0.53615,     0.53573,     0.53446,     0.53129,     0.53079,     0.53032,     0.52999,     0.52954,     0.52789,     0.52764,     0.52649,\n",
       "            0.52649,     0.52476,     0.52241,     0.52171,     0.52118,     0.52068,     0.52034,     0.51709,      0.5153,     0.51497,     0.51405,     0.51355,     0.51184,     0.51126,     0.51012,     0.50876,      0.5079,     0.50698,     0.50673,     0.50597,     0.50564,     0.50441,     0.50416,\n",
       "            0.50247,     0.50204,     0.50171,     0.49992,     0.49866,     0.49841,     0.49754,     0.49704,     0.49581,     0.49524,      0.4936,     0.49046,     0.49013,     0.48821,      0.4865,     0.48586,     0.48453,     0.48433,     0.48336,     0.48197,     0.48136,     0.48034,     0.47911,\n",
       "             0.4774,     0.47689,     0.47567,     0.47545,     0.47395,     0.47249,     0.47216,     0.47124,     0.47001,     0.46892,     0.46804,     0.46564,     0.46531,      0.4612,     0.45843,     0.45777,     0.45708,     0.45458,     0.45265,     0.45213,     0.45163,     0.44918,     0.44747,\n",
       "            0.44427,     0.44259,     0.43966,     0.43819,     0.43591,     0.43525,     0.43343,     0.43279,     0.43143,     0.43121,     0.42993,     0.42934,     0.42905,     0.42881,     0.42789,     0.42604,     0.42443,     0.42173,     0.41904,     0.41565,     0.41565,      0.4141,     0.41098,\n",
       "            0.40919,     0.40731,     0.40671,     0.40474,     0.40374,     0.40275,     0.39898,     0.39833,     0.39733,      0.3969,     0.39339,     0.39142,     0.38724,     0.38603,      0.3826,     0.37773,     0.37672,     0.37308,     0.37258,     0.36868,       0.366,     0.36396,     0.36306,\n",
       "            0.36196,     0.35999,     0.35657,     0.35401,     0.35254,     0.35066,     0.34821,     0.34526,     0.34232,      0.3396,      0.3379,     0.33544,     0.33251,     0.33007,     0.32808,     0.32514,     0.32268,     0.32032,     0.31999,     0.31775,     0.31529,     0.31162,     0.30941,\n",
       "            0.30647,     0.30353,       0.301,     0.29953,     0.29801,     0.29565,     0.29414,      0.2922,     0.28829,      0.2834,     0.27975,     0.27703,     0.27263,     0.27018,     0.26724,     0.26608,     0.26233,     0.25647,     0.25304,     0.25059,     0.24765,     0.24681,     0.24565,\n",
       "            0.24216,     0.24113,     0.23877,     0.23751,     0.23484,     0.23092,     0.22604,     0.22261,     0.22113,     0.21673,     0.21038,     0.20793,     0.20256,      0.2001,     0.19619,     0.19276,     0.18728,     0.18347,      0.1815,     0.17752,     0.17562,     0.17074,      0.1678,\n",
       "            0.15951,     0.15754,     0.15508,     0.14996,     0.14485,     0.14043,     0.13461,     0.13163,      0.1239,      0.1204,     0.11502,     0.11208,     0.10914,     0.10571,     0.10083,    0.098374,     0.09446,    0.091033,    0.087119,    0.084178,    0.080751,    0.077809,    0.076327,\n",
       "           0.071452,    0.070444,    0.067539,    0.064562,    0.057732,    0.054304,    0.051849,    0.049394,    0.046453,     0.04582,    0.043487,    0.041518,    0.038577,    0.036122,    0.033667,    0.032184,    0.028757,    0.026788,    0.025305,     0.02285,    0.020395,     0.01794,    0.016944,\n",
       "           0.014975,    0.013978,    0.012981,    0.009554,   0.0081679,   0.0075608,   0.0055919,   0.0049714,   0.0040848,   0.0036222,   0.0028603,   0.0026942,   0.0025281,   0.0020185,    0.001637,    0.001228,  0.00091164,  0.00078707,  0.00066249,  0.00053791,           0,           0,           0,\n",
       "                  0,           0,           0,           0,           0,           0,           0,           0,           0,           0,           0,           0,           0,           0,           0,           0,           0,           0,           0,           0,           0,           0,           0,\n",
       "                  0,           0,           0,           0,           0,           0,           0,           0,           0,           0,           0]]), 'Confidence', 'Recall']]\n",
       "fitness: 0.5435769186055642\n",
       "keys: ['metrics/precision(B)', 'metrics/recall(B)', 'metrics/mAP50(B)', 'metrics/mAP50-95(B)']\n",
       "maps: array([    0.52065])\n",
       "names: {0: 'Human head'}\n",
       "plot: True\n",
       "results_dict: {'metrics/precision(B)': 0.8852763393050005, 'metrics/recall(B)': 0.667746501971101, 'metrics/mAP50(B)': 0.7498911708019366, 'metrics/mAP50-95(B)': 0.5206531128059673, 'fitness': 0.5435769186055642}\n",
       "save_dir: WindowsPath('runs/detect/train3')\n",
       "speed: {'preprocess': 0.21422884681008078, 'inference': 3.4781336784362793, 'loss': 0.0, 'postprocess': 0.7941751769094756}\n",
       "task: 'detect'"
      ]
     },
     "execution_count": 3,
     "metadata": {},
     "output_type": "execute_result"
    }
   ],
   "source": [
    "yolo.train(data=\"./yolo_dataset/dataset.yaml\", epochs=50, imgsz=640)\n"
   ]
  },
  {
   "cell_type": "code",
   "execution_count": 12,
   "metadata": {},
   "outputs": [
    {
     "name": "stdout",
     "output_type": "stream",
     "text": [
      "Ultralytics YOLOv8.2.92  Python-3.11.5 torch-2.6.0+cu118 CUDA:0 (NVIDIA GeForce RTX 3050 6GB Laptop GPU, 6144MiB)\n"
     ]
    },
    {
     "name": "stderr",
     "output_type": "stream",
     "text": [
      "\u001b[34m\u001b[1mval: \u001b[0mScanning D:\\HACKTHON\\SSIP2025\\yolo_dataset\\labels\\val.cache... 660 images, 0 backgrounds, 0 corrupt: 100%|██████████| 660/660 [00:00<?, ?it/s]\n",
      "                 Class     Images  Instances      Box(P          R      mAP50  mAP50-95): 100%|██████████| 42/42 [00:09<00:00,  4.65it/s]\n"
     ]
    },
    {
     "name": "stdout",
     "output_type": "stream",
     "text": [
      "                   all        660       2057      0.889      0.666       0.75       0.52\n",
      "Speed: 0.6ms preprocess, 5.8ms inference, 0.0ms loss, 2.1ms postprocess per image\n",
      "Results saved to \u001b[1mruns\\detect\\train3\u001b[0m\n"
     ]
    }
   ],
   "source": [
    "metrics = yolo.val()\n"
   ]
  },
  {
   "cell_type": "code",
   "execution_count": 7,
   "metadata": {},
   "outputs": [],
   "source": [
    "yolo.save( \"yolo_model_trined_on_head.pt\")  # Save as .pt file\n"
   ]
  },
  {
   "cell_type": "code",
   "execution_count": null,
   "metadata": {},
   "outputs": [],
   "source": []
  },
  {
   "cell_type": "code",
   "execution_count": null,
   "metadata": {},
   "outputs": [],
   "source": []
  }
 ],
 "metadata": {
  "kernelspec": {
   "display_name": "Python 3",
   "language": "python",
   "name": "python3"
  },
  "language_info": {
   "codemirror_mode": {
    "name": "ipython",
    "version": 3
   },
   "file_extension": ".py",
   "mimetype": "text/x-python",
   "name": "python",
   "nbconvert_exporter": "python",
   "pygments_lexer": "ipython3",
   "version": "3.11.5"
  }
 },
 "nbformat": 4,
 "nbformat_minor": 2
}
